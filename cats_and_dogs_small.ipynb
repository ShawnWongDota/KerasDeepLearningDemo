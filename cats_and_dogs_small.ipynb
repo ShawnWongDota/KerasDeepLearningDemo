{
 "cells": [
  {
   "cell_type": "markdown",
   "metadata": {},
   "source": [
    "这篇博文的代码使用了猫狗分类的数据集，数据集下载地址在Kaggle上，可以移步 https://www.kaggle.com/c/dogs-vs-cats/data 下载原始数据集。\n",
    "\n",
    "这个数据集包含 25 000 张猫狗图像（每个类别都有 12 500 张），大小为 543MB（压缩后）。下载数据并解压之后，你需要创建一个新数据集，其中包含三个子集：每个类别各 1000 个样本的训练集、每个类别各 500 个样本的验证集和每个类别各 500 个样本的测试集。"
   ]
  },
  {
   "cell_type": "code",
   "execution_count": 1,
   "metadata": {},
   "outputs": [],
   "source": [
    "# 导入库\n",
    "from keras import models\n",
    "from keras import layers"
   ]
  },
  {
   "cell_type": "code",
   "execution_count": 2,
   "metadata": {},
   "outputs": [],
   "source": [
    "# 定义一个序列模型\n",
    "model = models.Sequential()"
   ]
  },
  {
   "cell_type": "code",
   "execution_count": 3,
   "metadata": {},
   "outputs": [],
   "source": [
    "model.add(layers.Conv2D(32, (3, 3), activation='relu', input_shape=(150, 150, 3)))\n",
    "model.add(layers.MaxPooling2D((2, 2)))\n",
    "model.add(layers.Conv2D(64, (3, 3), activation='relu'))\n",
    "model.add(layers.MaxPooling2D((2, 2)))\n",
    "model.add(layers.Conv2D(128, (3, 3), activation='relu'))\n",
    "model.add(layers.MaxPooling2D((2, 2)))\n",
    "model.add(layers.Conv2D(128, (3, 3), activation='relu'))\n",
    "model.add(layers.MaxPooling2D((2, 2)))\n",
    "model.add(layers.Flatten())\n",
    "model.add(layers.Dense(512, activation='relu'))\n",
    "model.add(layers.Dense(1, activation='sigmoid'))"
   ]
  },
  {
   "cell_type": "code",
   "execution_count": 4,
   "metadata": {},
   "outputs": [
    {
     "name": "stdout",
     "output_type": "stream",
     "text": [
      "_________________________________________________________________\n",
      "Layer (type)                 Output Shape              Param #   \n",
      "=================================================================\n",
      "conv2d_1 (Conv2D)            (None, 148, 148, 32)      896       \n",
      "_________________________________________________________________\n",
      "max_pooling2d_1 (MaxPooling2 (None, 74, 74, 32)        0         \n",
      "_________________________________________________________________\n",
      "conv2d_2 (Conv2D)            (None, 72, 72, 64)        18496     \n",
      "_________________________________________________________________\n",
      "max_pooling2d_2 (MaxPooling2 (None, 36, 36, 64)        0         \n",
      "_________________________________________________________________\n",
      "conv2d_3 (Conv2D)            (None, 34, 34, 128)       73856     \n",
      "_________________________________________________________________\n",
      "max_pooling2d_3 (MaxPooling2 (None, 17, 17, 128)       0         \n",
      "_________________________________________________________________\n",
      "conv2d_4 (Conv2D)            (None, 15, 15, 128)       147584    \n",
      "_________________________________________________________________\n",
      "max_pooling2d_4 (MaxPooling2 (None, 7, 7, 128)         0         \n",
      "_________________________________________________________________\n",
      "flatten_1 (Flatten)          (None, 6272)              0         \n",
      "_________________________________________________________________\n",
      "dense_1 (Dense)              (None, 512)               3211776   \n",
      "_________________________________________________________________\n",
      "dense_2 (Dense)              (None, 1)                 513       \n",
      "=================================================================\n",
      "Total params: 3,453,121\n",
      "Trainable params: 3,453,121\n",
      "Non-trainable params: 0\n",
      "_________________________________________________________________\n"
     ]
    }
   ],
   "source": [
    "model.summary()"
   ]
  },
  {
   "cell_type": "code",
   "execution_count": 5,
   "metadata": {},
   "outputs": [],
   "source": [
    "from keras import optimizers"
   ]
  },
  {
   "cell_type": "code",
   "execution_count": 6,
   "metadata": {},
   "outputs": [],
   "source": [
    "model.compile(optimizer=optimizers.RMSprop(lr=1e-4), loss='binary_crossentropy', metrics=['acc'])"
   ]
  },
  {
   "cell_type": "code",
   "execution_count": 7,
   "metadata": {},
   "outputs": [],
   "source": [
    "from keras.preprocessing.image import ImageDataGenerator"
   ]
  },
  {
   "cell_type": "code",
   "execution_count": 8,
   "metadata": {},
   "outputs": [],
   "source": [
    "train_datagen = ImageDataGenerator(rescale=1./255)\n",
    "test_datagen = ImageDataGenerator(rescale=1./255)"
   ]
  },
  {
   "cell_type": "code",
   "execution_count": 9,
   "metadata": {},
   "outputs": [],
   "source": [
    "train_dir = r'E:\\2--jupyter_notebook\\python deeplearning\\datasets\\dog_cat_classify\\cats_and_dogs_small\\train'"
   ]
  },
  {
   "cell_type": "code",
   "execution_count": 10,
   "metadata": {},
   "outputs": [],
   "source": [
    "validation_dir = r'E:\\2--jupyter_notebook\\python deeplearning\\datasets\\dog_cat_classify\\cats_and_dogs_small\\validation'"
   ]
  },
  {
   "cell_type": "code",
   "execution_count": 11,
   "metadata": {},
   "outputs": [
    {
     "name": "stdout",
     "output_type": "stream",
     "text": [
      "Found 2000 images belonging to 2 classes.\n",
      "Found 1000 images belonging to 2 classes.\n"
     ]
    }
   ],
   "source": [
    "train_generator = train_datagen.flow_from_directory(train_dir, target_size=(150, 150), batch_size=20, class_mode='binary')\n",
    "validation_generator = test_datagen.flow_from_directory(validation_dir, target_size=(150, 150), batch_size=20, class_mode='binary')"
   ]
  },
  {
   "cell_type": "code",
   "execution_count": 12,
   "metadata": {},
   "outputs": [],
   "source": [
    "import time\n",
    "def print_time():\n",
    "    return time.strftime('%Y-%m-%d %H:%M:%S',time.localtime(time.time()))"
   ]
  },
  {
   "cell_type": "code",
   "execution_count": 13,
   "metadata": {},
   "outputs": [
    {
     "name": "stdout",
     "output_type": "stream",
     "text": [
      "current time 2019-03-20 20:06:26\n"
     ]
    }
   ],
   "source": [
    "print('current time', print_time())"
   ]
  },
  {
   "cell_type": "code",
   "execution_count": 14,
   "metadata": {},
   "outputs": [
    {
     "name": "stdout",
     "output_type": "stream",
     "text": [
      "start time 2019-03-20 20:06:48\n",
      "Epoch 1/30\n",
      "100/100 [==============================] - 11s 113ms/step - loss: 0.6887 - acc: 0.5435 - val_loss: 0.6799 - val_acc: 0.5180\n",
      "Epoch 2/30\n",
      "100/100 [==============================] - 6s 61ms/step - loss: 0.6628 - acc: 0.6150 - val_loss: 0.7849 - val_acc: 0.5210\n",
      "Epoch 3/30\n",
      "100/100 [==============================] - 6s 62ms/step - loss: 0.6102 - acc: 0.6720 - val_loss: 0.6227 - val_acc: 0.6430\n",
      "Epoch 4/30\n",
      "100/100 [==============================] - 6s 61ms/step - loss: 0.5670 - acc: 0.7020 - val_loss: 0.6269 - val_acc: 0.6360\n",
      "Epoch 5/30\n",
      "100/100 [==============================] - 6s 61ms/step - loss: 0.5387 - acc: 0.7320 - val_loss: 0.6506 - val_acc: 0.6610\n",
      "Epoch 6/30\n",
      "100/100 [==============================] - 6s 61ms/step - loss: 0.5116 - acc: 0.7440 - val_loss: 0.5985 - val_acc: 0.6690\n",
      "Epoch 7/30\n",
      "100/100 [==============================] - 6s 60ms/step - loss: 0.4929 - acc: 0.7575 - val_loss: 0.5861 - val_acc: 0.6900\n",
      "Epoch 8/30\n",
      "100/100 [==============================] - 6s 64ms/step - loss: 0.4671 - acc: 0.7850 - val_loss: 0.5734 - val_acc: 0.7030\n",
      "Epoch 9/30\n",
      "100/100 [==============================] - 6s 63ms/step - loss: 0.4435 - acc: 0.7845 - val_loss: 0.5729 - val_acc: 0.6950\n",
      "Epoch 10/30\n",
      "100/100 [==============================] - 6s 60ms/step - loss: 0.4128 - acc: 0.8180 - val_loss: 0.5553 - val_acc: 0.7170\n",
      "Epoch 11/30\n",
      "100/100 [==============================] - 6s 60ms/step - loss: 0.3936 - acc: 0.8265 - val_loss: 0.6106 - val_acc: 0.6970\n",
      "Epoch 12/30\n",
      "100/100 [==============================] - 6s 61ms/step - loss: 0.3677 - acc: 0.8365 - val_loss: 0.5721 - val_acc: 0.7110\n",
      "Epoch 13/30\n",
      "100/100 [==============================] - 6s 61ms/step - loss: 0.3425 - acc: 0.8570 - val_loss: 0.5966 - val_acc: 0.7100\n",
      "Epoch 14/30\n",
      "100/100 [==============================] - 6s 65ms/step - loss: 0.3207 - acc: 0.8710 - val_loss: 0.6143 - val_acc: 0.7230\n",
      "Epoch 15/30\n",
      "100/100 [==============================] - 7s 66ms/step - loss: 0.2913 - acc: 0.8775 - val_loss: 0.6293 - val_acc: 0.7110\n",
      "Epoch 16/30\n",
      "100/100 [==============================] - 7s 65ms/step - loss: 0.2711 - acc: 0.8900 - val_loss: 0.6674 - val_acc: 0.7130\n",
      "Epoch 17/30\n",
      "100/100 [==============================] - 6s 60ms/step - loss: 0.2455 - acc: 0.9105 - val_loss: 0.6189 - val_acc: 0.7260\n",
      "Epoch 18/30\n",
      "100/100 [==============================] - 6s 60ms/step - loss: 0.2347 - acc: 0.9110 - val_loss: 0.6220 - val_acc: 0.7270\n",
      "Epoch 19/30\n",
      "100/100 [==============================] - 6s 60ms/step - loss: 0.2086 - acc: 0.9250 - val_loss: 0.6503 - val_acc: 0.7430\n",
      "Epoch 20/30\n",
      "100/100 [==============================] - 6s 60ms/step - loss: 0.1888 - acc: 0.9200 - val_loss: 0.6743 - val_acc: 0.7280\n",
      "Epoch 21/30\n",
      "100/100 [==============================] - 6s 61ms/step - loss: 0.1724 - acc: 0.9400 - val_loss: 0.8147 - val_acc: 0.6920\n",
      "Epoch 22/30\n",
      "100/100 [==============================] - 6s 61ms/step - loss: 0.1478 - acc: 0.9440 - val_loss: 0.7743 - val_acc: 0.7290\n",
      "Epoch 23/30\n",
      "100/100 [==============================] - 6s 60ms/step - loss: 0.1341 - acc: 0.9565 - val_loss: 0.9297 - val_acc: 0.6890\n",
      "Epoch 24/30\n",
      "100/100 [==============================] - 6s 60ms/step - loss: 0.1117 - acc: 0.9635 - val_loss: 0.7740 - val_acc: 0.7390\n",
      "Epoch 25/30\n",
      "100/100 [==============================] - 6s 60ms/step - loss: 0.1088 - acc: 0.9680 - val_loss: 0.8546 - val_acc: 0.7240\n",
      "Epoch 26/30\n",
      "100/100 [==============================] - 6s 62ms/step - loss: 0.0930 - acc: 0.9710 - val_loss: 0.8592 - val_acc: 0.7290\n",
      "Epoch 27/30\n",
      "100/100 [==============================] - 6s 62ms/step - loss: 0.0752 - acc: 0.9795 - val_loss: 0.8588 - val_acc: 0.7250\n",
      "Epoch 28/30\n",
      "100/100 [==============================] - 6s 60ms/step - loss: 0.0629 - acc: 0.9825 - val_loss: 0.9944 - val_acc: 0.6960\n",
      "Epoch 29/30\n",
      "100/100 [==============================] - 6s 61ms/step - loss: 0.0612 - acc: 0.9830 - val_loss: 1.0698 - val_acc: 0.7230\n",
      "Epoch 30/30\n",
      "100/100 [==============================] - 6s 61ms/step - loss: 0.0525 - acc: 0.9825 - val_loss: 0.9806 - val_acc: 0.7220\n",
      "end time 2019-03-20 20:09:57\n"
     ]
    }
   ],
   "source": [
    "print('start time', print_time())\n",
    "history_first = model.fit_generator(train_generator, steps_per_epoch=100, epochs=30, validation_data=validation_generator, validation_steps=50)\n",
    "print('end time', print_time())"
   ]
  },
  {
   "cell_type": "code",
   "execution_count": 15,
   "metadata": {},
   "outputs": [],
   "source": [
    "import matplotlib.pyplot as plt"
   ]
  },
  {
   "cell_type": "code",
   "execution_count": 19,
   "metadata": {},
   "outputs": [],
   "source": [
    "acc = history_first.history['acc']\n",
    "val_acc = history_first.history['val_acc']\n",
    "loss = history_first.history['loss']\n",
    "val_loss =history_first.history['val_loss']\n",
    "Epochs = range(1, len(loss) + 1)"
   ]
  },
  {
   "cell_type": "code",
   "execution_count": 20,
   "metadata": {},
   "outputs": [
    {
     "data": {
      "image/png": "[encoded data removed]",
      "text/plain": [
       "<Figure size 432x288 with 1 Axes>"
      ]
     },
     "metadata": {},
     "output_type": "display_data"
    },
    {
     "data": {
      "image/png": "[encoded data removed]",
      "text/plain": [
       "<Figure size 432x288 with 1 Axes>"
      ]
     },
     "metadata": {},
     "output_type": "display_data"
    }
   ],
   "source": [
    "plt.plot(Epochs, acc, 'ro', label='Training acc')\n",
    "plt.plot(Epochs, val_acc, 'r', label='Validation acc')\n",
    "plt.xlabel('Epochs')\n",
    "plt.ylabel('Accuracy')\n",
    "plt.title('Training and Validation Accuracy')\n",
    "plt.legend()\n",
    "\n",
    "plt.figure()\n",
    "plt.plot(Epochs, loss, 'ro', label='Training loss')\n",
    "plt.plot(Epochs, val_loss, 'r', label='Validation loss')\n",
    "plt.xlabel('Epochs')\n",
    "plt.ylabel('loss')\n",
    "plt.title('Training and Validation loss')\n",
    "plt.legend()\n",
    "\n",
    "plt.show()"
   ]
  },
  {
   "cell_type": "code",
   "execution_count": 21,
   "metadata": {},
   "outputs": [],
   "source": [
    "model.save('cats_and_dogs_small_1.h5')"
   ]
  },
  {
   "cell_type": "code",
   "execution_count": 22,
   "metadata": {},
   "outputs": [],
   "source": [
    "model = models.Sequential()\n",
    "model.add(layers.Conv2D(32, (3, 3), activation='relu', input_shape=(150, 150, 3)))\n",
    "model.add(layers.MaxPooling2D((2, 2)))\n",
    "model.add(layers.Conv2D(64, (3, 3), activation='relu'))\n",
    "model.add(layers.MaxPooling2D((2, 2)))\n",
    "model.add(layers.Conv2D(128, (3, 3), activation='relu'))\n",
    "model.add(layers.MaxPooling2D((2, 2)))\n",
    "model.add(layers.Conv2D(128, (3, 3), activation='relu'))\n",
    "model.add(layers.MaxPooling2D((2, 2)))\n",
    "model.add(layers.Flatten())\n",
    "model.add(layers.Dropout(0.5))\n",
    "model.add(layers.Dense(512, activation='relu'))\n",
    "model.add(layers.Dense(1, activation='sigmoid'))\n",
    "model.compile(optimizer=optimizers.RMSprop(lr=1e-4), loss='binary_crossentropy', metrics=['acc'])"
   ]
  },
  {
   "cell_type": "code",
   "execution_count": 23,
   "metadata": {},
   "outputs": [
    {
     "name": "stdout",
     "output_type": "stream",
     "text": [
      "_________________________________________________________________\n",
      "Layer (type)                 Output Shape              Param #   \n",
      "=================================================================\n",
      "conv2d_5 (Conv2D)            (None, 148, 148, 32)      896       \n",
      "_________________________________________________________________\n",
      "max_pooling2d_5 (MaxPooling2 (None, 74, 74, 32)        0         \n",
      "_________________________________________________________________\n",
      "conv2d_6 (Conv2D)            (None, 72, 72, 64)        18496     \n",
      "_________________________________________________________________\n",
      "max_pooling2d_6 (MaxPooling2 (None, 36, 36, 64)        0         \n",
      "_________________________________________________________________\n",
      "conv2d_7 (Conv2D)            (None, 34, 34, 128)       73856     \n",
      "_________________________________________________________________\n",
      "max_pooling2d_7 (MaxPooling2 (None, 17, 17, 128)       0         \n",
      "_________________________________________________________________\n",
      "conv2d_8 (Conv2D)            (None, 15, 15, 128)       147584    \n",
      "_________________________________________________________________\n",
      "max_pooling2d_8 (MaxPooling2 (None, 7, 7, 128)         0         \n",
      "_________________________________________________________________\n",
      "flatten_2 (Flatten)          (None, 6272)              0         \n",
      "_________________________________________________________________\n",
      "dropout_1 (Dropout)          (None, 6272)              0         \n",
      "_________________________________________________________________\n",
      "dense_3 (Dense)              (None, 512)               3211776   \n",
      "_________________________________________________________________\n",
      "dense_4 (Dense)              (None, 1)                 513       \n",
      "=================================================================\n",
      "Total params: 3,453,121\n",
      "Trainable params: 3,453,121\n",
      "Non-trainable params: 0\n",
      "_________________________________________________________________\n"
     ]
    }
   ],
   "source": [
    "model.summary()"
   ]
  },
  {
   "cell_type": "code",
   "execution_count": 24,
   "metadata": {},
   "outputs": [],
   "source": [
    "# 数据增强\n",
    "train_datagen = ImageDataGenerator(rescale=1./255, rotation_range=40, width_shift_range=0.2, height_shift_range=0.2, shear_range=0.2, zoom_range=0.2, horizontal_flip=True)\n",
    "test_datagen = ImageDataGenerator(rescale=1./255)"
   ]
  },
  {
   "cell_type": "code",
   "execution_count": 25,
   "metadata": {},
   "outputs": [
    {
     "name": "stdout",
     "output_type": "stream",
     "text": [
      "Found 2000 images belonging to 2 classes.\n",
      "Found 1000 images belonging to 2 classes.\n"
     ]
    }
   ],
   "source": [
    "train_generator = train_datagen.flow_from_directory(train_dir, target_size=(150, 150), batch_size=32, class_mode='binary')\n",
    "validation_generator = test_datagen.flow_from_directory(validation_dir, target_size=(150, 150), batch_size=32, class_mode='binary')"
   ]
  },
  {
   "cell_type": "code",
   "execution_count": 26,
   "metadata": {},
   "outputs": [
    {
     "name": "stdout",
     "output_type": "stream",
     "text": [
      "start time 2019-03-20 20:20:50\n",
      "Epoch 1/100\n",
      "100/100 [==============================] - 23s 231ms/step - loss: 0.6924 - acc: 0.5262 - val_loss: 0.6753 - val_acc: 0.6041\n",
      "Epoch 2/100\n",
      "100/100 [==============================] - 19s 194ms/step - loss: 0.6775 - acc: 0.5613 - val_loss: 0.6563 - val_acc: 0.6018\n",
      "Epoch 3/100\n",
      "100/100 [==============================] - 19s 188ms/step - loss: 0.6620 - acc: 0.5972 - val_loss: 0.6746 - val_acc: 0.5660\n",
      "Epoch 4/100\n",
      "100/100 [==============================] - 19s 188ms/step - loss: 0.6382 - acc: 0.6203 - val_loss: 0.6424 - val_acc: 0.6102\n",
      "Epoch 5/100\n",
      "100/100 [==============================] - 19s 188ms/step - loss: 0.6215 - acc: 0.6447 - val_loss: 0.6301 - val_acc: 0.6377\n",
      "Epoch 6/100\n",
      "100/100 [==============================] - 19s 189ms/step - loss: 0.6111 - acc: 0.6491 - val_loss: 0.5966 - val_acc: 0.6572\n",
      "Epoch 7/100\n",
      "100/100 [==============================] - 19s 187ms/step - loss: 0.6041 - acc: 0.6706 - val_loss: 0.6302 - val_acc: 0.6491\n",
      "Epoch 8/100\n",
      "100/100 [==============================] - 19s 190ms/step - loss: 0.5942 - acc: 0.6744 - val_loss: 0.5627 - val_acc: 0.6849\n",
      "Epoch 9/100\n",
      "100/100 [==============================] - 19s 187ms/step - loss: 0.5881 - acc: 0.6834 - val_loss: 0.5931 - val_acc: 0.6740\n",
      "Epoch 10/100\n",
      "100/100 [==============================] - 19s 189ms/step - loss: 0.5721 - acc: 0.6938 - val_loss: 0.5612 - val_acc: 0.6916\n",
      "Epoch 11/100\n",
      "100/100 [==============================] - 19s 188ms/step - loss: 0.5622 - acc: 0.7128 - val_loss: 0.5818 - val_acc: 0.6888\n",
      "Epoch 12/100\n",
      "100/100 [==============================] - 19s 188ms/step - loss: 0.5603 - acc: 0.7091 - val_loss: 0.5359 - val_acc: 0.7253\n",
      "Epoch 13/100\n",
      "100/100 [==============================] - 19s 188ms/step - loss: 0.5486 - acc: 0.7166 - val_loss: 0.5246 - val_acc: 0.7332\n",
      "Epoch 14/100\n",
      "100/100 [==============================] - 19s 188ms/step - loss: 0.5416 - acc: 0.7194 - val_loss: 0.5485 - val_acc: 0.7151\n",
      "Epoch 15/100\n",
      "100/100 [==============================] - 19s 190ms/step - loss: 0.5436 - acc: 0.7184 - val_loss: 0.5324 - val_acc: 0.7313\n",
      "Epoch 16/100\n",
      "100/100 [==============================] - 19s 187ms/step - loss: 0.5453 - acc: 0.7166 - val_loss: 0.5119 - val_acc: 0.7384\n",
      "Epoch 17/100\n",
      "100/100 [==============================] - 19s 189ms/step - loss: 0.5371 - acc: 0.7241 - val_loss: 0.5326 - val_acc: 0.7265\n",
      "Epoch 18/100\n",
      "100/100 [==============================] - 19s 188ms/step - loss: 0.5275 - acc: 0.7331 - val_loss: 0.5094 - val_acc: 0.7390\n",
      "Epoch 19/100\n",
      "100/100 [==============================] - 19s 188ms/step - loss: 0.5192 - acc: 0.7372 - val_loss: 0.5424 - val_acc: 0.7272\n",
      "Epoch 20/100\n",
      "100/100 [==============================] - 19s 188ms/step - loss: 0.5222 - acc: 0.7406 - val_loss: 0.5072 - val_acc: 0.7564\n",
      "Epoch 21/100\n",
      "100/100 [==============================] - 19s 188ms/step - loss: 0.5153 - acc: 0.7459 - val_loss: 0.5021 - val_acc: 0.7494\n",
      "Epoch 22/100\n",
      "100/100 [==============================] - 19s 189ms/step - loss: 0.5066 - acc: 0.7500 - val_loss: 0.5453 - val_acc: 0.7068\n",
      "Epoch 23/100\n",
      "100/100 [==============================] - 19s 188ms/step - loss: 0.5107 - acc: 0.7494 - val_loss: 0.4960 - val_acc: 0.7570\n",
      "Epoch 24/100\n",
      "100/100 [==============================] - 19s 188ms/step - loss: 0.4986 - acc: 0.7566 - val_loss: 0.5436 - val_acc: 0.7249\n",
      "Epoch 25/100\n",
      "100/100 [==============================] - 19s 188ms/step - loss: 0.5029 - acc: 0.7488 - val_loss: 0.5159 - val_acc: 0.7255\n",
      "Epoch 26/100\n",
      "100/100 [==============================] - 19s 188ms/step - loss: 0.4998 - acc: 0.7547 - val_loss: 0.5507 - val_acc: 0.7253\n",
      "Epoch 27/100\n",
      "100/100 [==============================] - 19s 188ms/step - loss: 0.4975 - acc: 0.7547 - val_loss: 0.5462 - val_acc: 0.7165\n",
      "Epoch 28/100\n",
      "100/100 [==============================] - 19s 188ms/step - loss: 0.4891 - acc: 0.7619 - val_loss: 0.5401 - val_acc: 0.7132\n",
      "Epoch 29/100\n",
      "100/100 [==============================] - 19s 188ms/step - loss: 0.4884 - acc: 0.7578 - val_loss: 0.4512 - val_acc: 0.7835\n",
      "Epoch 30/100\n",
      "100/100 [==============================] - 19s 190ms/step - loss: 0.4801 - acc: 0.7713 - val_loss: 0.5175 - val_acc: 0.7468\n",
      "Epoch 31/100\n",
      "100/100 [==============================] - 19s 189ms/step - loss: 0.4604 - acc: 0.7800 - val_loss: 0.5981 - val_acc: 0.7165\n",
      "Epoch 32/100\n",
      "100/100 [==============================] - 19s 189ms/step - loss: 0.4918 - acc: 0.7591 - val_loss: 0.4807 - val_acc: 0.7635\n",
      "Epoch 33/100\n",
      "100/100 [==============================] - 19s 189ms/step - loss: 0.4578 - acc: 0.7816 - val_loss: 0.4655 - val_acc: 0.7792\n",
      "Epoch 34/100\n",
      "100/100 [==============================] - 19s 193ms/step - loss: 0.4658 - acc: 0.7763 - val_loss: 0.5096 - val_acc: 0.7410\n",
      "Epoch 35/100\n",
      "100/100 [==============================] - 19s 193ms/step - loss: 0.4656 - acc: 0.7769 - val_loss: 0.4662 - val_acc: 0.7722\n",
      "Epoch 36/100\n",
      "100/100 [==============================] - 19s 188ms/step - loss: 0.4626 - acc: 0.7769 - val_loss: 0.5106 - val_acc: 0.7526\n",
      "Epoch 37/100\n",
      "100/100 [==============================] - 19s 189ms/step - loss: 0.4634 - acc: 0.7734 - val_loss: 0.4523 - val_acc: 0.7836\n",
      "Epoch 38/100\n",
      "100/100 [==============================] - 22s 217ms/step - loss: 0.4612 - acc: 0.7753 - val_loss: 0.4871 - val_acc: 0.7642\n",
      "Epoch 39/100\n",
      "100/100 [==============================] - 23s 227ms/step - loss: 0.4623 - acc: 0.7744 - val_loss: 0.4472 - val_acc: 0.7893\n",
      "Epoch 40/100\n",
      "100/100 [==============================] - 23s 227ms/step - loss: 0.4625 - acc: 0.7706 - val_loss: 0.5297 - val_acc: 0.7429\n",
      "Epoch 41/100\n",
      "100/100 [==============================] - 22s 220ms/step - loss: 0.4545 - acc: 0.7900 - val_loss: 0.4711 - val_acc: 0.7719\n",
      "Epoch 42/100\n",
      "100/100 [==============================] - 23s 226ms/step - loss: 0.4376 - acc: 0.7959 - val_loss: 0.4849 - val_acc: 0.7722\n",
      "Epoch 43/100\n",
      "100/100 [==============================] - 23s 227ms/step - loss: 0.4528 - acc: 0.7831 - val_loss: 0.4533 - val_acc: 0.7867\n",
      "Epoch 44/100\n",
      "100/100 [==============================] - 23s 229ms/step - loss: 0.4384 - acc: 0.7931 - val_loss: 0.5153 - val_acc: 0.7582\n",
      "Epoch 45/100\n",
      "100/100 [==============================] - 21s 210ms/step - loss: 0.4348 - acc: 0.7962 - val_loss: 0.4558 - val_acc: 0.7790\n",
      "Epoch 46/100\n",
      "100/100 [==============================] - 21s 207ms/step - loss: 0.4381 - acc: 0.7919 - val_loss: 0.4641 - val_acc: 0.7868\n",
      "Epoch 47/100\n",
      "100/100 [==============================] - 21s 207ms/step - loss: 0.4309 - acc: 0.7988 - val_loss: 0.4761 - val_acc: 0.7893\n",
      "Epoch 48/100\n",
      "100/100 [==============================] - 20s 199ms/step - loss: 0.4274 - acc: 0.8087 - val_loss: 0.4392 - val_acc: 0.7996\n",
      "Epoch 49/100\n",
      "100/100 [==============================] - 20s 200ms/step - loss: 0.4313 - acc: 0.8019 - val_loss: 0.4729 - val_acc: 0.7849\n",
      "Epoch 50/100\n",
      "100/100 [==============================] - 20s 198ms/step - loss: 0.4143 - acc: 0.8053 - val_loss: 0.5015 - val_acc: 0.7751\n",
      "Epoch 51/100\n",
      "100/100 [==============================] - 20s 201ms/step - loss: 0.4166 - acc: 0.8025 - val_loss: 0.4674 - val_acc: 0.7849\n",
      "Epoch 52/100\n",
      "100/100 [==============================] - 20s 201ms/step - loss: 0.4363 - acc: 0.7950 - val_loss: 0.4714 - val_acc: 0.7835\n",
      "Epoch 53/100\n",
      "100/100 [==============================] - 20s 200ms/step - loss: 0.4327 - acc: 0.8019 - val_loss: 0.4186 - val_acc: 0.8128\n",
      "Epoch 54/100\n",
      "100/100 [==============================] - 20s 202ms/step - loss: 0.4204 - acc: 0.8056 - val_loss: 0.5543 - val_acc: 0.7584\n",
      "Epoch 55/100\n",
      "100/100 [==============================] - 20s 201ms/step - loss: 0.4132 - acc: 0.8100 - val_loss: 0.4315 - val_acc: 0.8014\n",
      "Epoch 56/100\n",
      "100/100 [==============================] - 20s 201ms/step - loss: 0.4040 - acc: 0.8131 - val_loss: 0.4317 - val_acc: 0.7925\n",
      "Epoch 57/100\n",
      "100/100 [==============================] - 20s 201ms/step - loss: 0.4236 - acc: 0.8000 - val_loss: 0.4860 - val_acc: 0.7803\n",
      "Epoch 58/100\n",
      "100/100 [==============================] - 20s 200ms/step - loss: 0.4201 - acc: 0.8100 - val_loss: 0.4491 - val_acc: 0.7887\n",
      "Epoch 59/100\n",
      "100/100 [==============================] - 20s 201ms/step - loss: 0.3893 - acc: 0.8269 - val_loss: 0.4649 - val_acc: 0.7912\n",
      "Epoch 60/100\n",
      "100/100 [==============================] - 20s 200ms/step - loss: 0.4146 - acc: 0.8081 - val_loss: 0.5248 - val_acc: 0.7582\n",
      "Epoch 61/100\n",
      "100/100 [==============================] - 20s 201ms/step - loss: 0.3874 - acc: 0.8209 - val_loss: 0.4886 - val_acc: 0.7674\n",
      "Epoch 62/100\n",
      "100/100 [==============================] - 20s 205ms/step - loss: 0.3868 - acc: 0.8294 - val_loss: 0.4757 - val_acc: 0.7830\n",
      "Epoch 63/100\n",
      "100/100 [==============================] - 20s 202ms/step - loss: 0.4088 - acc: 0.8169 - val_loss: 0.4657 - val_acc: 0.7899\n",
      "Epoch 64/100\n",
      "100/100 [==============================] - 20s 201ms/step - loss: 0.3904 - acc: 0.8275 - val_loss: 0.4062 - val_acc: 0.8177\n",
      "Epoch 65/100\n",
      "100/100 [==============================] - 20s 201ms/step - loss: 0.4009 - acc: 0.8200 - val_loss: 0.4672 - val_acc: 0.7976\n",
      "Epoch 66/100\n",
      "100/100 [==============================] - 20s 202ms/step - loss: 0.3983 - acc: 0.8231 - val_loss: 0.4648 - val_acc: 0.7899\n",
      "Epoch 67/100\n",
      "100/100 [==============================] - 20s 203ms/step - loss: 0.3973 - acc: 0.8238 - val_loss: 0.4671 - val_acc: 0.7989\n",
      "Epoch 68/100\n",
      "100/100 [==============================] - 20s 203ms/step - loss: 0.3952 - acc: 0.8200 - val_loss: 0.4538 - val_acc: 0.7951\n",
      "Epoch 69/100\n",
      "100/100 [==============================] - 20s 203ms/step - loss: 0.3827 - acc: 0.8269 - val_loss: 0.5205 - val_acc: 0.7868\n",
      "Epoch 70/100\n",
      "100/100 [==============================] - 20s 203ms/step - loss: 0.3904 - acc: 0.8213 - val_loss: 0.4336 - val_acc: 0.8119\n",
      "Epoch 71/100\n",
      "100/100 [==============================] - 20s 204ms/step - loss: 0.3744 - acc: 0.8294 - val_loss: 0.4631 - val_acc: 0.7995\n",
      "Epoch 72/100\n",
      "100/100 [==============================] - 21s 208ms/step - loss: 0.3835 - acc: 0.8225 - val_loss: 0.4540 - val_acc: 0.8048\n",
      "Epoch 73/100\n",
      "100/100 [==============================] - 21s 208ms/step - loss: 0.3781 - acc: 0.8259 - val_loss: 0.5427 - val_acc: 0.7700\n",
      "Epoch 74/100\n",
      "100/100 [==============================] - 21s 211ms/step - loss: 0.3741 - acc: 0.8303 - val_loss: 0.4128 - val_acc: 0.8154\n",
      "Epoch 75/100\n",
      "100/100 [==============================] - 20s 204ms/step - loss: 0.3695 - acc: 0.8400 - val_loss: 0.5091 - val_acc: 0.7726\n",
      "Epoch 76/100\n",
      "100/100 [==============================] - 20s 201ms/step - loss: 0.3594 - acc: 0.8400 - val_loss: 0.4733 - val_acc: 0.8058\n",
      "Epoch 77/100\n",
      "100/100 [==============================] - 20s 203ms/step - loss: 0.3630 - acc: 0.8447 - val_loss: 0.6567 - val_acc: 0.7468\n",
      "Epoch 78/100\n",
      "100/100 [==============================] - 21s 213ms/step - loss: 0.3698 - acc: 0.8356 - val_loss: 0.5230 - val_acc: 0.7951\n",
      "Epoch 79/100\n",
      "100/100 [==============================] - 21s 209ms/step - loss: 0.3690 - acc: 0.8375 - val_loss: 0.4484 - val_acc: 0.8086\n",
      "Epoch 80/100\n",
      "100/100 [==============================] - 21s 207ms/step - loss: 0.3683 - acc: 0.8394 - val_loss: 0.5112 - val_acc: 0.7751\n",
      "Epoch 81/100\n",
      "100/100 [==============================] - 21s 207ms/step - loss: 0.3688 - acc: 0.8363 - val_loss: 0.4909 - val_acc: 0.8020\n",
      "Epoch 82/100\n",
      "100/100 [==============================] - 21s 207ms/step - loss: 0.3632 - acc: 0.8341 - val_loss: 0.4281 - val_acc: 0.8363\n",
      "Epoch 83/100\n",
      "100/100 [==============================] - 21s 212ms/step - loss: 0.3477 - acc: 0.8509 - val_loss: 0.4363 - val_acc: 0.8242\n",
      "Epoch 84/100\n",
      "100/100 [==============================] - 22s 223ms/step - loss: 0.3582 - acc: 0.8453 - val_loss: 0.4493 - val_acc: 0.8112\n",
      "Epoch 85/100\n",
      "100/100 [==============================] - 23s 228ms/step - loss: 0.3536 - acc: 0.8409 - val_loss: 0.4324 - val_acc: 0.8103\n",
      "Epoch 86/100\n",
      "100/100 [==============================] - 23s 232ms/step - loss: 0.3480 - acc: 0.8453 - val_loss: 0.4204 - val_acc: 0.8247\n",
      "Epoch 87/100\n",
      "100/100 [==============================] - 23s 229ms/step - loss: 0.3443 - acc: 0.8378 - val_loss: 0.4497 - val_acc: 0.7982\n",
      "Epoch 88/100\n",
      "100/100 [==============================] - 23s 231ms/step - loss: 0.3473 - acc: 0.8459 - val_loss: 0.4941 - val_acc: 0.7867\n",
      "Epoch 89/100\n",
      "100/100 [==============================] - 23s 226ms/step - loss: 0.3473 - acc: 0.8453 - val_loss: 0.3749 - val_acc: 0.8376\n",
      "Epoch 90/100\n",
      "100/100 [==============================] - 23s 227ms/step - loss: 0.3398 - acc: 0.8516 - val_loss: 0.4249 - val_acc: 0.8236\n",
      "Epoch 91/100\n",
      "100/100 [==============================] - 23s 228ms/step - loss: 0.3387 - acc: 0.8497 - val_loss: 0.3993 - val_acc: 0.8363\n",
      "Epoch 92/100\n",
      "100/100 [==============================] - 22s 224ms/step - loss: 0.3327 - acc: 0.8544 - val_loss: 0.4626 - val_acc: 0.8166\n",
      "Epoch 93/100\n",
      "100/100 [==============================] - 23s 228ms/step - loss: 0.3320 - acc: 0.8538 - val_loss: 0.6072 - val_acc: 0.7880\n",
      "Epoch 94/100\n",
      "100/100 [==============================] - 23s 226ms/step - loss: 0.3570 - acc: 0.8406 - val_loss: 0.4474 - val_acc: 0.8084\n",
      "Epoch 95/100\n",
      "100/100 [==============================] - 23s 226ms/step - loss: 0.3350 - acc: 0.8512 - val_loss: 0.4631 - val_acc: 0.8080\n",
      "Epoch 96/100\n",
      "100/100 [==============================] - 23s 225ms/step - loss: 0.3197 - acc: 0.8606 - val_loss: 0.4419 - val_acc: 0.8241\n",
      "Epoch 97/100\n",
      "100/100 [==============================] - 23s 229ms/step - loss: 0.3265 - acc: 0.8581 - val_loss: 0.3757 - val_acc: 0.8458\n",
      "Epoch 98/100\n",
      "100/100 [==============================] - 23s 229ms/step - loss: 0.3315 - acc: 0.8525 - val_loss: 0.4561 - val_acc: 0.8138\n",
      "Epoch 99/100\n",
      "100/100 [==============================] - 23s 228ms/step - loss: 0.3267 - acc: 0.8569 - val_loss: 0.6800 - val_acc: 0.7500\n",
      "Epoch 100/100\n",
      "100/100 [==============================] - 23s 228ms/step - loss: 0.3289 - acc: 0.8550 - val_loss: 0.4264 - val_acc: 0.8273\n",
      "end time 2019-03-20 20:54:52\n"
     ]
    }
   ],
   "source": [
    "print('start time', print_time())\n",
    "history_first = model.fit_generator(train_generator, steps_per_epoch=100, epochs=100, validation_data=validation_generator, validation_steps=50)\n",
    "print('end time', print_time())"
   ]
  },
  {
   "cell_type": "code",
   "execution_count": 27,
   "metadata": {},
   "outputs": [],
   "source": [
    "model.save('cats_and_dogs_small_2.h5')"
   ]
  },
  {
   "cell_type": "code",
   "execution_count": 28,
   "metadata": {},
   "outputs": [],
   "source": [
    "acc = history_first.history['acc']\n",
    "val_acc = history_first.history['val_acc']\n",
    "loss = history_first.history['loss']\n",
    "val_loss =history_first.history['val_loss']\n",
    "Epochs = range(1, len(loss) + 1)"
   ]
  },
  {
   "cell_type": "code",
   "execution_count": 29,
   "metadata": {},
   "outputs": [
    {
     "data": {
      "image/png": "[encoded data removed]",
      "text/plain": [
       "<Figure size 432x288 with 1 Axes>"
      ]
     },
     "metadata": {},
     "output_type": "display_data"
    },
    {
     "data": {
      "image/png": "[encoded data removed]",
      "text/plain": [
       "<Figure size 432x288 with 1 Axes>"
      ]
     },
     "metadata": {},
     "output_type": "display_data"
    }
   ],
   "source": [
    "plt.plot(Epochs, acc, 'bo', label='Training acc')\n",
    "plt.plot(Epochs, val_acc, 'b', label='Validation acc')\n",
    "plt.xlabel('Epochs')\n",
    "plt.ylabel('Accuracy')\n",
    "plt.title('Training and Validation Accuracy')\n",
    "plt.legend()\n",
    "\n",
    "plt.figure()\n",
    "plt.plot(Epochs, loss, 'bo', label='Training loss')\n",
    "plt.plot(Epochs, val_loss, 'b', label='Validation loss')\n",
    "plt.xlabel('Epochs')\n",
    "plt.ylabel('loss')\n",
    "plt.title('Training and Validation loss')\n",
    "plt.legend()\n",
    "\n",
    "plt.show()"
   ]
  },
  {
   "cell_type": "code",
   "execution_count": null,
   "metadata": {},
   "outputs": [],
   "source": []
  }
 ],
 "metadata": {
  "kernelspec": {
   "display_name": "Python 3",
   "language": "python",
   "name": "python3"
  },
  "language_info": {
   "codemirror_mode": {
    "name": "ipython",
    "version": 3
   },
   "file_extension": ".py",
   "mimetype": "text/x-python",
   "name": "python",
   "nbconvert_exporter": "python",
   "pygments_lexer": "ipython3",
   "version": "3.6.5"
  }
 },
 "nbformat": 4,
 "nbformat_minor": 2
}
