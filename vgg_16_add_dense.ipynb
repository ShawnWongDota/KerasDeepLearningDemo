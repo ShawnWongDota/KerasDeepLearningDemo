{
 "cells": [
  {
   "cell_type": "code",
   "execution_count": 1,
   "metadata": {},
   "outputs": [],
   "source": [
    "from keras.applications import VGG16"
   ]
  },
  {
   "cell_type": "code",
   "execution_count": 2,
   "metadata": {},
   "outputs": [],
   "source": [
    "conv_base = VGG16(weights='imagenet', include_top=False, input_shape=(150, 150, 3))"
   ]
  },
  {
   "cell_type": "code",
   "execution_count": 3,
   "metadata": {},
   "outputs": [
    {
     "name": "stdout",
     "output_type": "stream",
     "text": [
      "_________________________________________________________________\n",
      "Layer (type)                 Output Shape              Param #   \n",
      "=================================================================\n",
      "input_1 (InputLayer)         (None, 150, 150, 3)       0         \n",
      "_________________________________________________________________\n",
      "block1_conv1 (Conv2D)        (None, 150, 150, 64)      1792      \n",
      "_________________________________________________________________\n",
      "block1_conv2 (Conv2D)        (None, 150, 150, 64)      36928     \n",
      "_________________________________________________________________\n",
      "block1_pool (MaxPooling2D)   (None, 75, 75, 64)        0         \n",
      "_________________________________________________________________\n",
      "block2_conv1 (Conv2D)        (None, 75, 75, 128)       73856     \n",
      "_________________________________________________________________\n",
      "block2_conv2 (Conv2D)        (None, 75, 75, 128)       147584    \n",
      "_________________________________________________________________\n",
      "block2_pool (MaxPooling2D)   (None, 37, 37, 128)       0         \n",
      "_________________________________________________________________\n",
      "block3_conv1 (Conv2D)        (None, 37, 37, 256)       295168    \n",
      "_________________________________________________________________\n",
      "block3_conv2 (Conv2D)        (None, 37, 37, 256)       590080    \n",
      "_________________________________________________________________\n",
      "block3_conv3 (Conv2D)        (None, 37, 37, 256)       590080    \n",
      "_________________________________________________________________\n",
      "block3_pool (MaxPooling2D)   (None, 18, 18, 256)       0         \n",
      "_________________________________________________________________\n",
      "block4_conv1 (Conv2D)        (None, 18, 18, 512)       1180160   \n",
      "_________________________________________________________________\n",
      "block4_conv2 (Conv2D)        (None, 18, 18, 512)       2359808   \n",
      "_________________________________________________________________\n",
      "block4_conv3 (Conv2D)        (None, 18, 18, 512)       2359808   \n",
      "_________________________________________________________________\n",
      "block4_pool (MaxPooling2D)   (None, 9, 9, 512)         0         \n",
      "_________________________________________________________________\n",
      "block5_conv1 (Conv2D)        (None, 9, 9, 512)         2359808   \n",
      "_________________________________________________________________\n",
      "block5_conv2 (Conv2D)        (None, 9, 9, 512)         2359808   \n",
      "_________________________________________________________________\n",
      "block5_conv3 (Conv2D)        (None, 9, 9, 512)         2359808   \n",
      "_________________________________________________________________\n",
      "block5_pool (MaxPooling2D)   (None, 4, 4, 512)         0         \n",
      "=================================================================\n",
      "Total params: 14,714,688\n",
      "Trainable params: 14,714,688\n",
      "Non-trainable params: 0\n",
      "_________________________________________________________________\n"
     ]
    }
   ],
   "source": [
    "conv_base.summary()"
   ]
  },
  {
   "cell_type": "code",
   "execution_count": 4,
   "metadata": {},
   "outputs": [],
   "source": [
    "from keras import models\n",
    "from keras import layers"
   ]
  },
  {
   "cell_type": "code",
   "execution_count": 6,
   "metadata": {},
   "outputs": [],
   "source": [
    "model = models.Sequential()\n",
    "model.add(conv_base)\n",
    "model.add(layers.Flatten())\n",
    "model.add(layers.Dense(256, activation='relu'))\n",
    "model.add(layers.Dense(1, activation='sigmoid'))"
   ]
  },
  {
   "cell_type": "code",
   "execution_count": 7,
   "metadata": {},
   "outputs": [
    {
     "name": "stdout",
     "output_type": "stream",
     "text": [
      "_________________________________________________________________\n",
      "Layer (type)                 Output Shape              Param #   \n",
      "=================================================================\n",
      "vgg16 (Model)                (None, 4, 4, 512)         14714688  \n",
      "_________________________________________________________________\n",
      "flatten_1 (Flatten)          (None, 8192)              0         \n",
      "_________________________________________________________________\n",
      "dense_1 (Dense)              (None, 256)               2097408   \n",
      "_________________________________________________________________\n",
      "dense_2 (Dense)              (None, 1)                 257       \n",
      "=================================================================\n",
      "Total params: 16,812,353\n",
      "Trainable params: 16,812,353\n",
      "Non-trainable params: 0\n",
      "_________________________________________________________________\n"
     ]
    }
   ],
   "source": [
    "model.summary()"
   ]
  },
  {
   "cell_type": "code",
   "execution_count": 8,
   "metadata": {},
   "outputs": [
    {
     "name": "stdout",
     "output_type": "stream",
     "text": [
      "This is the number of trainable weights before freezing the conv base: 30\n"
     ]
    }
   ],
   "source": [
    "print('This is the number of trainable weights before freezing the conv base:', len(model.trainable_weights))"
   ]
  },
  {
   "cell_type": "code",
   "execution_count": 9,
   "metadata": {},
   "outputs": [],
   "source": [
    "conv_base.trainable = False"
   ]
  },
  {
   "cell_type": "code",
   "execution_count": 10,
   "metadata": {},
   "outputs": [
    {
     "name": "stdout",
     "output_type": "stream",
     "text": [
      "This is the number of trainable weights after freezing the conv base: 4\n"
     ]
    }
   ],
   "source": [
    "print('This is the number of trainable weights after freezing the conv base:', len(model.trainable_weights))"
   ]
  },
  {
   "cell_type": "code",
   "execution_count": 11,
   "metadata": {},
   "outputs": [],
   "source": [
    "from keras.preprocessing.image import ImageDataGenerator\n",
    "from keras import optimizers"
   ]
  },
  {
   "cell_type": "code",
   "execution_count": 12,
   "metadata": {},
   "outputs": [],
   "source": [
    "train_datagen = ImageDataGenerator(rescale=1./255, rotation_range=40, width_shift_range=0.2, height_shift_range=0.2, \n",
    "                                   shear_range=0.2, zoom_range=0.2, horizontal_flip=True, fill_mode='nearest')"
   ]
  },
  {
   "cell_type": "code",
   "execution_count": 13,
   "metadata": {},
   "outputs": [],
   "source": [
    "test_datagen = ImageDataGenerator(rescale=1./255)"
   ]
  },
  {
   "cell_type": "code",
   "execution_count": 14,
   "metadata": {},
   "outputs": [],
   "source": [
    "train_dir = r'E:\\2--jupyter_notebook\\python deeplearning\\datasets\\dog_cat_classify\\cats_and_dogs_small\\train'\n",
    "validation_dir = r'E:\\2--jupyter_notebook\\python deeplearning\\datasets\\dog_cat_classify\\cats_and_dogs_small\\validation'\n",
    "test_dir = r'E:\\2--jupyter_notebook\\python deeplearning\\datasets\\dog_cat_classify\\cats_and_dogs_small\\test'"
   ]
  },
  {
   "cell_type": "code",
   "execution_count": 15,
   "metadata": {},
   "outputs": [
    {
     "name": "stdout",
     "output_type": "stream",
     "text": [
      "Found 2000 images belonging to 2 classes.\n"
     ]
    }
   ],
   "source": [
    "train_generator = train_datagen.flow_from_directory(train_dir, target_size=(150, 150), batch_size=20, class_mode='binary')"
   ]
  },
  {
   "cell_type": "code",
   "execution_count": 16,
   "metadata": {},
   "outputs": [
    {
     "name": "stdout",
     "output_type": "stream",
     "text": [
      "Found 1000 images belonging to 2 classes.\n"
     ]
    }
   ],
   "source": [
    "validation_generator = test_datagen.flow_from_directory(validation_dir, target_size=(150, 150), batch_size=20, class_mode='binary')"
   ]
  },
  {
   "cell_type": "code",
   "execution_count": 17,
   "metadata": {},
   "outputs": [],
   "source": [
    "model.compile(loss='binary_crossentropy', optimizer=optimizers.RMSprop(lr=2e-5), metrics=['acc'])"
   ]
  },
  {
   "cell_type": "code",
   "execution_count": 18,
   "metadata": {},
   "outputs": [],
   "source": [
    "import time\n",
    "def current_time():\n",
    "    return time.strftime('%Y-%m-%d %H:%M:%S',time.localtime(time.time()))"
   ]
  },
  {
   "cell_type": "code",
   "execution_count": 20,
   "metadata": {},
   "outputs": [
    {
     "name": "stdout",
     "output_type": "stream",
     "text": [
      "start  2019-03-20 23:03:05\n",
      "Epoch 1/30\n",
      "100/100 [==============================] - 17s 167ms/step - loss: 0.5830 - acc: 0.7075 - val_loss: 0.4428 - val_acc: 0.8340\n",
      "Epoch 2/30\n",
      "100/100 [==============================] - 15s 149ms/step - loss: 0.4711 - acc: 0.7930 - val_loss: 0.3569 - val_acc: 0.8660\n",
      "Epoch 3/30\n",
      "100/100 [==============================] - 15s 150ms/step - loss: 0.4106 - acc: 0.8315 - val_loss: 0.3241 - val_acc: 0.8690\n",
      "Epoch 4/30\n",
      "100/100 [==============================] - 15s 150ms/step - loss: 0.3933 - acc: 0.8260 - val_loss: 0.2793 - val_acc: 0.8950\n",
      "Epoch 5/30\n",
      "100/100 [==============================] - 15s 150ms/step - loss: 0.3783 - acc: 0.8270 - val_loss: 0.3013 - val_acc: 0.8790\n",
      "Epoch 6/30\n",
      "100/100 [==============================] - 15s 151ms/step - loss: 0.3735 - acc: 0.8315 - val_loss: 0.2663 - val_acc: 0.8950\n",
      "Epoch 7/30\n",
      "100/100 [==============================] - 15s 151ms/step - loss: 0.3543 - acc: 0.8455 - val_loss: 0.2641 - val_acc: 0.9060\n",
      "Epoch 8/30\n",
      "100/100 [==============================] - 15s 152ms/step - loss: 0.3460 - acc: 0.8450 - val_loss: 0.2740 - val_acc: 0.8820\n",
      "Epoch 9/30\n",
      "100/100 [==============================] - 15s 151ms/step - loss: 0.3335 - acc: 0.8455 - val_loss: 0.2460 - val_acc: 0.9050\n",
      "Epoch 10/30\n",
      "100/100 [==============================] - 15s 151ms/step - loss: 0.3375 - acc: 0.8440 - val_loss: 0.2649 - val_acc: 0.8930\n",
      "Epoch 11/30\n",
      "100/100 [==============================] - 15s 151ms/step - loss: 0.3211 - acc: 0.8550 - val_loss: 0.2426 - val_acc: 0.9120\n",
      "Epoch 12/30\n",
      "100/100 [==============================] - 15s 152ms/step - loss: 0.3183 - acc: 0.8655 - val_loss: 0.2486 - val_acc: 0.8980\n",
      "Epoch 13/30\n",
      "100/100 [==============================] - 15s 151ms/step - loss: 0.3283 - acc: 0.8535 - val_loss: 0.2479 - val_acc: 0.8980\n",
      "Epoch 14/30\n",
      "100/100 [==============================] - 15s 151ms/step - loss: 0.3070 - acc: 0.8645 - val_loss: 0.2473 - val_acc: 0.9000\n",
      "Epoch 15/30\n",
      "100/100 [==============================] - 15s 151ms/step - loss: 0.3253 - acc: 0.8635 - val_loss: 0.2324 - val_acc: 0.9120\n",
      "Epoch 16/30\n",
      "100/100 [==============================] - 15s 151ms/step - loss: 0.3096 - acc: 0.8700 - val_loss: 0.2445 - val_acc: 0.9080\n",
      "Epoch 17/30\n",
      "100/100 [==============================] - 15s 154ms/step - loss: 0.3188 - acc: 0.8540 - val_loss: 0.2461 - val_acc: 0.9040\n",
      "Epoch 18/30\n",
      "100/100 [==============================] - 16s 157ms/step - loss: 0.3083 - acc: 0.8605 - val_loss: 0.2398 - val_acc: 0.9030\n",
      "Epoch 19/30\n",
      "100/100 [==============================] - 15s 154ms/step - loss: 0.2940 - acc: 0.8715 - val_loss: 0.2311 - val_acc: 0.9100\n",
      "Epoch 20/30\n",
      "100/100 [==============================] - 15s 155ms/step - loss: 0.2989 - acc: 0.8745 - val_loss: 0.2576 - val_acc: 0.9030\n",
      "Epoch 21/30\n",
      "100/100 [==============================] - 15s 154ms/step - loss: 0.3005 - acc: 0.8820 - val_loss: 0.2514 - val_acc: 0.9010\n",
      "Epoch 22/30\n",
      "100/100 [==============================] - 15s 154ms/step - loss: 0.2999 - acc: 0.8655 - val_loss: 0.2517 - val_acc: 0.9080\n",
      "Epoch 23/30\n",
      "100/100 [==============================] - 15s 154ms/step - loss: 0.2818 - acc: 0.8770 - val_loss: 0.2143 - val_acc: 0.9120\n",
      "Epoch 24/30\n",
      "100/100 [==============================] - 15s 154ms/step - loss: 0.2817 - acc: 0.8785 - val_loss: 0.2356 - val_acc: 0.9130\n",
      "Epoch 25/30\n",
      "100/100 [==============================] - 16s 158ms/step - loss: 0.2979 - acc: 0.8765 - val_loss: 0.2387 - val_acc: 0.9040\n",
      "Epoch 26/30\n",
      "100/100 [==============================] - 15s 154ms/step - loss: 0.3025 - acc: 0.8710 - val_loss: 0.2364 - val_acc: 0.9210\n",
      "Epoch 27/30\n",
      "100/100 [==============================] - 16s 156ms/step - loss: 0.2943 - acc: 0.8715 - val_loss: 0.2256 - val_acc: 0.9100\n",
      "Epoch 28/30\n",
      "100/100 [==============================] - 15s 154ms/step - loss: 0.2854 - acc: 0.8770 - val_loss: 0.2869 - val_acc: 0.8810\n",
      "Epoch 29/30\n",
      "100/100 [==============================] - 15s 152ms/step - loss: 0.2913 - acc: 0.8740 - val_loss: 0.2397 - val_acc: 0.9080\n",
      "Epoch 30/30\n",
      "100/100 [==============================] - 15s 152ms/step - loss: 0.2871 - acc: 0.8775 - val_loss: 0.2243 - val_acc: 0.9120\n",
      "end  2019-03-20 23:10:45\n"
     ]
    }
   ],
   "source": [
    "print('start ', current_time())\n",
    "history = model.fit_generator(train_generator, steps_per_epoch=100, epochs=30, validation_data=validation_generator, validation_steps=50)\n",
    "print('end ', current_time())"
   ]
  },
  {
   "cell_type": "code",
   "execution_count": 21,
   "metadata": {},
   "outputs": [],
   "source": [
    "model.save('vgg_16_small_dog_cat_2.h5')"
   ]
  },
  {
   "cell_type": "code",
   "execution_count": 22,
   "metadata": {},
   "outputs": [],
   "source": [
    "acc = history.history['acc']\n",
    "val_acc = history.history['val_acc']\n",
    "loss = history.history['loss']\n",
    "val_loss = history.history['val_loss']\n",
    "Epochs = range(1, len(loss) + 1)"
   ]
  },
  {
   "cell_type": "code",
   "execution_count": 24,
   "metadata": {},
   "outputs": [],
   "source": [
    "import matplotlib.pyplot as plt"
   ]
  },
  {
   "cell_type": "code",
   "execution_count": 25,
   "metadata": {},
   "outputs": [
    {
     "data": {
      "image/png": "[encoded data removed]",
      "text/plain": [
       "<Figure size 432x288 with 1 Axes>"
      ]
     },
     "metadata": {},
     "output_type": "display_data"
    },
    {
     "data": {
      "image/png": "[encoded data removed]",
      "text/plain": [
       "<Figure size 432x288 with 1 Axes>"
      ]
     },
     "metadata": {},
     "output_type": "display_data"
    }
   ],
   "source": [
    "plt.plot(Epochs, acc, 'ro', label='Training acc')\n",
    "plt.plot(Epochs, val_acc, 'r', label='Validation acc')\n",
    "plt.xlabel('Epochs')\n",
    "plt.ylabel('Accuracy')\n",
    "plt.title('Training and Validation Accuracy')\n",
    "plt.legend()\n",
    "\n",
    "plt.figure()\n",
    "plt.plot(Epochs, loss, 'ro', label='Training loss')\n",
    "plt.plot(Epochs, val_loss, 'r', label='Validation loss')\n",
    "plt.xlabel('Epochs')\n",
    "plt.ylabel('loss')\n",
    "plt.title('Training and Validation loss')\n",
    "plt.legend()\n",
    "\n",
    "plt.show()"
   ]
  },
  {
   "cell_type": "code",
   "execution_count": null,
   "metadata": {},
   "outputs": [],
   "source": []
  }
 ],
 "metadata": {
  "kernelspec": {
   "display_name": "Python 3",
   "language": "python",
   "name": "python3"
  },
  "language_info": {
   "codemirror_mode": {
    "name": "ipython",
    "version": 3
   },
   "file_extension": ".py",
   "mimetype": "text/x-python",
   "name": "python",
   "nbconvert_exporter": "python",
   "pygments_lexer": "ipython3",
   "version": "3.6.5"
  }
 },
 "nbformat": 4,
 "nbformat_minor": 2
}
