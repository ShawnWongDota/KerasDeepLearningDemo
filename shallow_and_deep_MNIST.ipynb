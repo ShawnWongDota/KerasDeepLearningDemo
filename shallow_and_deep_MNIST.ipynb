{
 "cells": [
  {
   "cell_type": "markdown",
   "metadata": {},
   "source": [
    "## MNIST数据集的深度学习实现方式\n",
    "本文简要介绍两个神经网络算法，分别是一个浅层和深层（相对）的网络来对MNIST数据集的预测\n",
    "开始之前先导入必要的数据集以及简单看下数据集的样子吧"
   ]
  },
  {
   "cell_type": "code",
   "execution_count": 1,
   "metadata": {},
   "outputs": [
    {
     "name": "stderr",
     "output_type": "stream",
     "text": [
      "C:\\ProgramData\\Anaconda3\\lib\\site-packages\\h5py\\__init__.py:36: FutureWarning: Conversion of the second argument of issubdtype from `float` to `np.floating` is deprecated. In future, it will be treated as `np.float64 == np.dtype(float).type`.\n",
      "  from ._conv import register_converters as _register_converters\n",
      "Using TensorFlow backend.\n"
     ]
    }
   ],
   "source": [
    "# 分别导入数据集和绘图工具\n",
    "from keras.datasets import mnist\n",
    "import matplotlib.pyplot as plt"
   ]
  },
  {
   "cell_type": "code",
   "execution_count": 2,
   "metadata": {},
   "outputs": [
    {
     "name": "stdout",
     "output_type": "stream",
     "text": [
      "train_images shape (60000, 28, 28), train_labels shape (60000,)\n",
      "test_images shape (10000, 28, 28), test_labels shape (10000,)\n"
     ]
    }
   ],
   "source": [
    "# 导入数据集集 并看下数据集的格式\n",
    "(train_images, train_labels), (test_images, test_labels) = mnist.load_data()\n",
    "print('train_images shape {}, train_labels shape {}'.format(train_images.shape, train_labels.shape))\n",
    "print('test_images shape {}, test_labels shape {}'.format(test_images.shape, test_labels.shape))"
   ]
  },
  {
   "cell_type": "code",
   "execution_count": 3,
   "metadata": {},
   "outputs": [
    {
     "name": "stdout",
     "output_type": "stream",
     "text": [
      "(28, 28)\n",
      "[5]\n"
     ]
    }
   ],
   "source": [
    "# 拿出一张来看下\n",
    "train_images_1 = train_images[:1].reshape(28, 28)\n",
    "train_labels_1 = train_labels[:1]\n",
    "print(train_images_1.shape)\n",
    "print(train_labels_1)"
   ]
  },
  {
   "cell_type": "code",
   "execution_count": 5,
   "metadata": {},
   "outputs": [
    {
     "data": {
      "text/plain": [
       "Text(0.5,1,'number 5')"
      ]
     },
     "execution_count": 5,
     "metadata": {},
     "output_type": "execute_result"
    },
    {
     "data": {
      "image/png": "[encoded data removed]",
      "text/plain": [
       "<Figure size 432x288 with 1 Axes>"
      ]
     },
     "metadata": {},
     "output_type": "display_data"
    }
   ],
   "source": [
    "# 用绘图工具绘制下图形，cmap = ptl.cm.binary就是显示只有黑白两个颜色的图形\n",
    "plt.imshow(train_images_1, plt.cm.binary)\n",
    "plt.title('number {}'.format(train_labels_1[0]))"
   ]
  },
  {
   "cell_type": "code",
   "execution_count": 6,
   "metadata": {},
   "outputs": [],
   "source": [
    "# 导入keras的 models 和 laysers\n",
    "from keras import models\n",
    "from keras import layers"
   ]
  },
  {
   "cell_type": "code",
   "execution_count": 8,
   "metadata": {},
   "outputs": [
    {
     "name": "stdout",
     "output_type": "stream",
     "text": [
      "train_data shape (60000, 784), test_data shape(10000, 784)\n"
     ]
    }
   ],
   "source": [
    "# 数据预处理\n",
    "# 我们这里将图片数据拉长成为一个长向量，方便我们构建网络\n",
    "train_data = train_images.reshape((train_images.shape[0], train_images.shape[1]*train_images.shape[2]))\n",
    "test_data = test_images.reshape((test_images.shape[0], test_images.shape[1]*test_images.shape[2]))\n",
    "print('train_data shape {}, test_data shape{}'.format(train_data.shape, test_data.shape))"
   ]
  },
  {
   "cell_type": "code",
   "execution_count": 9,
   "metadata": {},
   "outputs": [],
   "source": [
    "# 将数据转换为0-1的范围\n",
    "train_data = train_data.astype('float32')/255\n",
    "test_data = test_data.astype('float32')/255"
   ]
  },
  {
   "cell_type": "code",
   "execution_count": 10,
   "metadata": {},
   "outputs": [],
   "source": [
    "# 导入one-hot处理模块\n",
    "from keras.utils.np_utils import to_categorical"
   ]
  },
  {
   "cell_type": "code",
   "execution_count": 11,
   "metadata": {},
   "outputs": [
    {
     "name": "stdout",
     "output_type": "stream",
     "text": [
      "origin labels[0] =  5\n",
      "after to_categorical() labels[0] =  [0. 0. 0. 0. 0. 1. 0. 0. 0. 0.]\n"
     ]
    }
   ],
   "source": [
    "print('origin labels[0] = ',train_labels[0])\n",
    "train_labels = to_categorical(train_labels)\n",
    "test_labels = to_categorical(test_labels)\n",
    "print('after to_categorical() labels[0] = ',train_labels[0])"
   ]
  },
  {
   "cell_type": "code",
   "execution_count": 12,
   "metadata": {},
   "outputs": [],
   "source": [
    "# 划分下数据集，将前10000个划分成验证集，剩下的为训练集，这样方便我们比较模型\n",
    "x_val = train_data[:10000]\n",
    "x_train = train_data[10000:]\n",
    "y_val = train_labels[:10000]\n",
    "y_train = train_labels[10000:]"
   ]
  },
  {
   "cell_type": "code",
   "execution_count": 13,
   "metadata": {},
   "outputs": [
    {
     "name": "stdout",
     "output_type": "stream",
     "text": [
      "(10000, 784) (50000, 784)\n"
     ]
    }
   ],
   "source": [
    "print(x_val.shape, x_train.shape)"
   ]
  },
  {
   "cell_type": "code",
   "execution_count": 14,
   "metadata": {},
   "outputs": [],
   "source": [
    "# 定义一个浅层的网络\n",
    "def shallow_network():\n",
    "    model = models.Sequential()\n",
    "    model.add(layers.Dense(32, activation='relu', input_shape=(28*28, )))\n",
    "    model.add(layers.Dense(10, activation='softmax'))\n",
    "    # 用rmsprop优化器，损失函数选取交叉熵函数\n",
    "    model.compile(optimizer='rmsprop', loss='categorical_crossentropy', metrics=['acc'])\n",
    "    return model"
   ]
  },
  {
   "cell_type": "code",
   "execution_count": 15,
   "metadata": {},
   "outputs": [],
   "source": [
    "# 定义一个深层（相对）的网络\n",
    "def deeper_network():\n",
    "    model = models.Sequential()\n",
    "    model.add(layers.Dense(64, activation='relu', input_shape=(28*28, )))\n",
    "    model.add(layers.Dense(64, activation='relu'))\n",
    "    model.add(layers.Dense(10, activation='softmax'))\n",
    "    # 用rmsprop优化器，损失函数选取交叉熵函数\n",
    "    model.compile(optimizer='rmsprop', loss='categorical_crossentropy', metrics=['acc'])\n",
    "    return model"
   ]
  },
  {
   "cell_type": "code",
   "execution_count": 16,
   "metadata": {},
   "outputs": [
    {
     "name": "stdout",
     "output_type": "stream",
     "text": [
      "Train on 50000 samples, validate on 10000 samples\n",
      "Epoch 1/5\n",
      "50000/50000 [==============================] - 4s 83us/step - loss: 0.5046 - acc: 0.8681 - val_loss: 0.2862 - val_acc: 0.9220\n",
      "Epoch 2/5\n",
      "50000/50000 [==============================] - 1s 19us/step - loss: 0.2606 - acc: 0.9271 - val_loss: 0.2352 - val_acc: 0.9357\n",
      "Epoch 3/5\n",
      "50000/50000 [==============================] - 1s 19us/step - loss: 0.2165 - acc: 0.9384 - val_loss: 0.2149 - val_acc: 0.9402\n",
      "Epoch 4/5\n",
      "50000/50000 [==============================] - 1s 18us/step - loss: 0.1877 - acc: 0.9466 - val_loss: 0.1842 - val_acc: 0.9475\n",
      "Epoch 5/5\n",
      "50000/50000 [==============================] - 1s 19us/step - loss: 0.1667 - acc: 0.9519 - val_loss: 0.1810 - val_acc: 0.9479\n",
      "dict_keys(['val_loss', 'val_acc', 'loss', 'acc'])\n"
     ]
    }
   ],
   "source": [
    "# 开始训练，并且保存训练的模型\n",
    "shallow_model = shallow_network()\n",
    "his_shallow = shallow_model.fit(x_train, y_train, epochs=5, batch_size=128,validation_data=(x_val, y_val))\n",
    "his_shallow_dict = his_shallow.history\n",
    "print(his_shallow_dict.keys())"
   ]
  },
  {
   "cell_type": "code",
   "execution_count": 17,
   "metadata": {},
   "outputs": [
    {
     "name": "stdout",
     "output_type": "stream",
     "text": [
      "Train on 50000 samples, validate on 10000 samples\n",
      "Epoch 1/5\n",
      "50000/50000 [==============================] - 1s 24us/step - loss: 0.3995 - acc: 0.8899 - val_loss: 0.2372 - val_acc: 0.9308\n",
      "Epoch 2/5\n",
      "50000/50000 [==============================] - 1s 21us/step - loss: 0.1814 - acc: 0.9472 - val_loss: 0.1561 - val_acc: 0.9524\n",
      "Epoch 3/5\n",
      "50000/50000 [==============================] - 1s 21us/step - loss: 0.1359 - acc: 0.9592 - val_loss: 0.1335 - val_acc: 0.9607\n",
      "Epoch 4/5\n",
      "50000/50000 [==============================] - 1s 21us/step - loss: 0.1095 - acc: 0.9670 - val_loss: 0.1243 - val_acc: 0.9629\n",
      "Epoch 5/5\n",
      "50000/50000 [==============================] - 1s 21us/step - loss: 0.0922 - acc: 0.9722 - val_loss: 0.1062 - val_acc: 0.9685\n",
      "dict_keys(['val_loss', 'val_acc', 'loss', 'acc'])\n"
     ]
    }
   ],
   "source": [
    "# 开始训练，并且保存训练的模型\n",
    "deeper_model = deeper_network()\n",
    "his_deeper = deeper_model.fit(x_train, y_train, epochs=5, batch_size=128,validation_data=(x_val, y_val))\n",
    "his_deeper_dict = his_deeper.history\n",
    "print(his_deeper_dict.keys())"
   ]
  },
  {
   "cell_type": "code",
   "execution_count": 18,
   "metadata": {},
   "outputs": [
    {
     "name": "stdout",
     "output_type": "stream",
     "text": [
      "10000/10000 [==============================] - 0s 29us/step\n",
      "10000/10000 [==============================] - 0s 27us/step\n",
      "shallow_acc  0.9479\n",
      "deeper_acc  0.968\n"
     ]
    }
   ],
   "source": [
    "# 来比较下不同网络在测试集下的精度\n",
    "test_shallow_loss, test_shallow_acc = shallow_model.evaluate(test_data, test_labels)\n",
    "test_deeper_loss, test_deeper_acc = deeper_model.evaluate(test_data, test_labels)\n",
    "print('shallow_acc ', test_shallow_acc)\n",
    "print('deeper_acc ', test_deeper_acc)"
   ]
  },
  {
   "cell_type": "code",
   "execution_count": 19,
   "metadata": {},
   "outputs": [
    {
     "data": {
      "image/png": "[encoded data removed]",
      "text/plain": [
       "<Figure size 432x288 with 1 Axes>"
      ]
     },
     "metadata": {},
     "output_type": "display_data"
    }
   ],
   "source": [
    "# 下面可以对比下两个模型的精度比对\n",
    "shallow_acc_value = his_shallow_dict['acc']\n",
    "deeper_acc_value = his_deeper_dict['acc']\n",
    "Epchos = range(1, len(deeper_acc_value) + 1)\n",
    "plt.scatter(Epchos, shallow_acc_value, marker='+', label='Shallow_accuracy')\n",
    "plt.scatter(Epchos, deeper_acc_value, marker='o', label='Deep_accuracy')\n",
    "plt.xlabel('Epochs')\n",
    "plt.ylabel('Accracy')\n",
    "plt.legend()\n",
    "plt.show()"
   ]
  },
  {
   "cell_type": "code",
   "execution_count": 20,
   "metadata": {},
   "outputs": [
    {
     "name": "stdout",
     "output_type": "stream",
     "text": [
      "_________________________________________________________________\n",
      "Layer (type)                 Output Shape              Param #   \n",
      "=================================================================\n",
      "dense_1 (Dense)              (None, 32)                25120     \n",
      "_________________________________________________________________\n",
      "dense_2 (Dense)              (None, 10)                330       \n",
      "=================================================================\n",
      "Total params: 25,450\n",
      "Trainable params: 25,450\n",
      "Non-trainable params: 0\n",
      "_________________________________________________________________\n"
     ]
    }
   ],
   "source": [
    "# 最后可以用函数来看下模型的层数\n",
    "shallow_model.summary()"
   ]
  },
  {
   "cell_type": "code",
   "execution_count": 21,
   "metadata": {},
   "outputs": [
    {
     "name": "stdout",
     "output_type": "stream",
     "text": [
      "_________________________________________________________________\n",
      "Layer (type)                 Output Shape              Param #   \n",
      "=================================================================\n",
      "dense_3 (Dense)              (None, 64)                50240     \n",
      "_________________________________________________________________\n",
      "dense_4 (Dense)              (None, 64)                4160      \n",
      "_________________________________________________________________\n",
      "dense_5 (Dense)              (None, 10)                650       \n",
      "=================================================================\n",
      "Total params: 55,050\n",
      "Trainable params: 55,050\n",
      "Non-trainable params: 0\n",
      "_________________________________________________________________\n"
     ]
    }
   ],
   "source": [
    "# 最后可以用函数来看下模型的层数\n",
    "deeper_model.summary()"
   ]
  },
  {
   "cell_type": "code",
   "execution_count": 22,
   "metadata": {},
   "outputs": [],
   "source": [
    "# 一般训练完可以将模型保存下，这是个好习惯\n",
    "shallow_model.save('shallow_model_mnist.h5')\n",
    "deeper_model.save('deeper_model_mnist.h5')"
   ]
  },
  {
   "cell_type": "code",
   "execution_count": null,
   "metadata": {},
   "outputs": [],
   "source": []
  }
 ],
 "metadata": {
  "kernelspec": {
   "display_name": "Python 3",
   "language": "python",
   "name": "python3"
  },
  "language_info": {
   "codemirror_mode": {
    "name": "ipython",
    "version": 3
   },
   "file_extension": ".py",
   "mimetype": "text/x-python",
   "name": "python",
   "nbconvert_exporter": "python",
   "pygments_lexer": "ipython3",
   "version": "3.6.5"
  }
 },
 "nbformat": 4,
 "nbformat_minor": 2
}
