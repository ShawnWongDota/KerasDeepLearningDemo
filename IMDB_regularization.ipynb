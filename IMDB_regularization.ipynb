{
 "cells": [
  {
   "cell_type": "markdown",
   "metadata": {},
   "source": [
    "# IMDB数据集的正则化实现方式\n",
    "本文通过IMDB数据集（根据评论分类出是好评还是差评的电影评论数据集）的例子简要介绍几个Keras正则化，从而减少过拟合的影响。\n",
    "\n",
    "这几种方式分别是\n",
    "- 1.减少网络大小\n",
    "- 2.添加L2正则化\n",
    "- 3.添加dropout\n",
    "\n",
    "以及最后也调加了一个L2 + dropout的组合使用来比较模型"
   ]
  },
  {
   "cell_type": "code",
   "execution_count": 1,
   "metadata": {},
   "outputs": [
    {
     "name": "stderr",
     "output_type": "stream",
     "text": [
      "C:\\ProgramData\\Anaconda3\\lib\\site-packages\\h5py\\__init__.py:36: FutureWarning: Conversion of the second argument of issubdtype from `float` to `np.floating` is deprecated. In future, it will be treated as `np.float64 == np.dtype(float).type`.\n",
      "  from ._conv import register_converters as _register_converters\n",
      "Using TensorFlow backend.\n"
     ]
    }
   ],
   "source": [
    "# 导入数据集集必要的库\n",
    "from keras.datasets import imdb\n",
    "import numpy as np"
   ]
  },
  {
   "cell_type": "code",
   "execution_count": 2,
   "metadata": {},
   "outputs": [],
   "source": [
    "(train_data, train_labels), (test_data, test_labels) = imdb.load_data(num_words=10000)"
   ]
  },
  {
   "cell_type": "code",
   "execution_count": 3,
   "metadata": {},
   "outputs": [
    {
     "name": "stdout",
     "output_type": "stream",
     "text": [
      "(25000,) (25000,)\n"
     ]
    }
   ],
   "source": [
    "# 看下数据集的shape\n",
    "print(train_data.shape, test_data.shape)"
   ]
  },
  {
   "cell_type": "code",
   "execution_count": 4,
   "metadata": {},
   "outputs": [],
   "source": [
    "# 将数据集模型向量化函数\n",
    "def vectorize_sequences(sequences, dimention=10000):\n",
    "    results = np.zeros((len(sequences), dimention))\n",
    "    for i, sequence in enumerate(sequences):\n",
    "        results[i, sequence] = 1.\n",
    "    return results"
   ]
  },
  {
   "cell_type": "code",
   "execution_count": 5,
   "metadata": {},
   "outputs": [],
   "source": [
    "x_train = vectorize_sequences(train_data)\n",
    "x_test = vectorize_sequences(test_data)"
   ]
  },
  {
   "cell_type": "code",
   "execution_count": 6,
   "metadata": {},
   "outputs": [],
   "source": [
    "y_train = np.asarray(train_labels).astype('float32')\n",
    "y_test = np.asarray(test_labels).astype('float32')"
   ]
  },
  {
   "cell_type": "code",
   "execution_count": 7,
   "metadata": {},
   "outputs": [],
   "source": [
    "# 划分数据集合训练集\n",
    "x_val = x_train[:10000]\n",
    "partial_x_train = x_train[10000:]\n",
    "y_val = y_train[:10000]\n",
    "partial_y_train = y_train[10000:]"
   ]
  },
  {
   "cell_type": "code",
   "execution_count": 8,
   "metadata": {},
   "outputs": [],
   "source": [
    "from keras import models\n",
    "from keras import layers"
   ]
  },
  {
   "cell_type": "code",
   "execution_count": 9,
   "metadata": {},
   "outputs": [],
   "source": [
    "# 定义一个最原始的模型\n",
    "def origin_model():\n",
    "    model = models.Sequential()\n",
    "    model.add(layers.Dense(16, activation='relu', input_shape = (x_val.shape[1], )))\n",
    "    model.add(layers.Dense(16, activation='relu'))\n",
    "    model.add(layers.Dense(1, activation='sigmoid'))\n",
    "    model.compile(optimizer='rmsprop', loss='binary_crossentropy', metrics=['acc'])\n",
    "    return model"
   ]
  },
  {
   "cell_type": "code",
   "execution_count": 10,
   "metadata": {},
   "outputs": [
    {
     "name": "stdout",
     "output_type": "stream",
     "text": [
      "Train on 15000 samples, validate on 10000 samples\n",
      "Epoch 1/20\n",
      "15000/15000 [==============================] - 3s 207us/step - loss: 0.5084 - acc: 0.7813 - val_loss: 0.3797 - val_acc: 0.8684\n",
      "Epoch 2/20\n",
      "15000/15000 [==============================] - 2s 113us/step - loss: 0.3004 - acc: 0.9047 - val_loss: 0.3004 - val_acc: 0.8897\n",
      "Epoch 3/20\n",
      "15000/15000 [==============================] - 2s 114us/step - loss: 0.2179 - acc: 0.9285 - val_loss: 0.3085 - val_acc: 0.8711\n",
      "Epoch 4/20\n",
      "15000/15000 [==============================] - 2s 117us/step - loss: 0.1750 - acc: 0.9437 - val_loss: 0.2840 - val_acc: 0.8832\n",
      "Epoch 5/20\n",
      "15000/15000 [==============================] - 2s 113us/step - loss: 0.1427 - acc: 0.9543 - val_loss: 0.2841 - val_acc: 0.8872\n",
      "Epoch 6/20\n",
      "15000/15000 [==============================] - 2s 114us/step - loss: 0.1150 - acc: 0.9650 - val_loss: 0.3166 - val_acc: 0.8772\n",
      "Epoch 7/20\n",
      "15000/15000 [==============================] - 2s 111us/step - loss: 0.0980 - acc: 0.9705 - val_loss: 0.3127 - val_acc: 0.8846\n",
      "Epoch 8/20\n",
      "15000/15000 [==============================] - 2s 113us/step - loss: 0.0807 - acc: 0.9763 - val_loss: 0.3859 - val_acc: 0.8649\n",
      "Epoch 9/20\n",
      "15000/15000 [==============================] - 2s 114us/step - loss: 0.0661 - acc: 0.9821 - val_loss: 0.3635 - val_acc: 0.8782\n",
      "Epoch 10/20\n",
      "15000/15000 [==============================] - 2s 114us/step - loss: 0.0561 - acc: 0.9853 - val_loss: 0.3843 - val_acc: 0.8792\n",
      "Epoch 11/20\n",
      "15000/15000 [==============================] - 2s 113us/step - loss: 0.0439 - acc: 0.9893 - val_loss: 0.4153 - val_acc: 0.8779\n",
      "Epoch 12/20\n",
      "15000/15000 [==============================] - 2s 112us/step - loss: 0.0381 - acc: 0.9921 - val_loss: 0.4525 - val_acc: 0.8690\n",
      "Epoch 13/20\n",
      "15000/15000 [==============================] - 2s 112us/step - loss: 0.0300 - acc: 0.9928 - val_loss: 0.4698 - val_acc: 0.8729\n",
      "Epoch 14/20\n",
      "15000/15000 [==============================] - 2s 113us/step - loss: 0.0247 - acc: 0.9945 - val_loss: 0.5023 - val_acc: 0.8726\n",
      "Epoch 15/20\n",
      "15000/15000 [==============================] - 2s 113us/step - loss: 0.0175 - acc: 0.9979 - val_loss: 0.5342 - val_acc: 0.8693\n",
      "Epoch 16/20\n",
      "15000/15000 [==============================] - 2s 112us/step - loss: 0.0149 - acc: 0.9983 - val_loss: 0.5710 - val_acc: 0.8697\n",
      "Epoch 17/20\n",
      "15000/15000 [==============================] - 2s 112us/step - loss: 0.0151 - acc: 0.9971 - val_loss: 0.6024 - val_acc: 0.8697\n",
      "Epoch 18/20\n",
      "15000/15000 [==============================] - 2s 113us/step - loss: 0.0075 - acc: 0.9996 - val_loss: 0.6789 - val_acc: 0.8632\n",
      "Epoch 19/20\n",
      "15000/15000 [==============================] - 2s 118us/step - loss: 0.0118 - acc: 0.9975 - val_loss: 0.6698 - val_acc: 0.8680\n",
      "Epoch 20/20\n",
      "15000/15000 [==============================] - 2s 118us/step - loss: 0.0041 - acc: 0.9999 - val_loss: 0.6931 - val_acc: 0.8654\n"
     ]
    }
   ],
   "source": [
    "# 开始训练\n",
    "his_origin = origin_model().fit(partial_x_train, partial_y_train, epochs=20, batch_size=512, validation_data=(x_val, y_val))"
   ]
  },
  {
   "cell_type": "code",
   "execution_count": 11,
   "metadata": {},
   "outputs": [
    {
     "name": "stdout",
     "output_type": "stream",
     "text": [
      "dict_keys(['val_loss', 'val_acc', 'loss', 'acc'])\n"
     ]
    }
   ],
   "source": [
    "# 获取下训练中的数据\n",
    "his_origin_dict = his_origin.history\n",
    "print(his_origin_dict.keys())"
   ]
  },
  {
   "cell_type": "code",
   "execution_count": 12,
   "metadata": {},
   "outputs": [],
   "source": [
    "# 定义一个小一点的模型\n",
    "def small_model():\n",
    "    model = models.Sequential()\n",
    "    model.add(layers.Dense(4, activation='relu', input_shape = (x_val.shape[1], )))\n",
    "    model.add(layers.Dense(4, activation='relu'))\n",
    "    model.add(layers.Dense(1, activation='sigmoid'))\n",
    "    model.compile(optimizer='rmsprop', loss='binary_crossentropy', metrics=['acc'])\n",
    "    return model"
   ]
  },
  {
   "cell_type": "code",
   "execution_count": 13,
   "metadata": {},
   "outputs": [],
   "source": [
    "# 定义一个大一点的模型\n",
    "def big_model():\n",
    "    model = models.Sequential()\n",
    "    model.add(layers.Dense(512, activation='relu', input_shape = (x_val.shape[1], )))\n",
    "    model.add(layers.Dense(512, activation='relu'))\n",
    "    model.add(layers.Dense(1, activation='sigmoid'))\n",
    "    model.compile(optimizer='rmsprop', loss='binary_crossentropy', metrics=['acc'])\n",
    "    return model"
   ]
  },
  {
   "cell_type": "code",
   "execution_count": 14,
   "metadata": {},
   "outputs": [
    {
     "name": "stdout",
     "output_type": "stream",
     "text": [
      "Train on 15000 samples, validate on 10000 samples\n",
      "Epoch 1/20\n",
      "15000/15000 [==============================] - 2s 128us/step - loss: 0.6050 - acc: 0.7685 - val_loss: 0.5338 - val_acc: 0.8324\n",
      "Epoch 2/20\n",
      "15000/15000 [==============================] - 2s 115us/step - loss: 0.4635 - acc: 0.8736 - val_loss: 0.4312 - val_acc: 0.8628\n",
      "Epoch 3/20\n",
      "15000/15000 [==============================] - 2s 112us/step - loss: 0.3712 - acc: 0.8937 - val_loss: 0.3685 - val_acc: 0.8749\n",
      "Epoch 4/20\n",
      "15000/15000 [==============================] - 2s 113us/step - loss: 0.3052 - acc: 0.9095 - val_loss: 0.3337 - val_acc: 0.8755\n",
      "Epoch 5/20\n",
      "15000/15000 [==============================] - 2s 112us/step - loss: 0.2585 - acc: 0.9204 - val_loss: 0.3015 - val_acc: 0.8869\n",
      "Epoch 6/20\n",
      "15000/15000 [==============================] - 2s 113us/step - loss: 0.2233 - acc: 0.9293 - val_loss: 0.2844 - val_acc: 0.8913\n",
      "Epoch 7/20\n",
      "15000/15000 [==============================] - 2s 112us/step - loss: 0.1961 - acc: 0.9375 - val_loss: 0.2792 - val_acc: 0.8907\n",
      "Epoch 8/20\n",
      "15000/15000 [==============================] - 2s 119us/step - loss: 0.1745 - acc: 0.9453 - val_loss: 0.2718 - val_acc: 0.8903\n",
      "Epoch 9/20\n",
      "15000/15000 [==============================] - 2s 117us/step - loss: 0.1556 - acc: 0.9527 - val_loss: 0.2713 - val_acc: 0.8904\n",
      "Epoch 10/20\n",
      "15000/15000 [==============================] - 2s 114us/step - loss: 0.1396 - acc: 0.9563 - val_loss: 0.2771 - val_acc: 0.8886\n",
      "Epoch 11/20\n",
      "15000/15000 [==============================] - 2s 113us/step - loss: 0.1258 - acc: 0.9617 - val_loss: 0.2788 - val_acc: 0.8908\n",
      "Epoch 12/20\n",
      "15000/15000 [==============================] - 2s 112us/step - loss: 0.1127 - acc: 0.9669 - val_loss: 0.2909 - val_acc: 0.8846\n",
      "Epoch 13/20\n",
      "15000/15000 [==============================] - 2s 114us/step - loss: 0.1022 - acc: 0.9714 - val_loss: 0.2925 - val_acc: 0.8880\n",
      "Epoch 14/20\n",
      "15000/15000 [==============================] - 2s 114us/step - loss: 0.0921 - acc: 0.9748 - val_loss: 0.3018 - val_acc: 0.8860\n",
      "Epoch 15/20\n",
      "15000/15000 [==============================] - 2s 113us/step - loss: 0.0828 - acc: 0.9769 - val_loss: 0.3144 - val_acc: 0.8857\n",
      "Epoch 16/20\n",
      "15000/15000 [==============================] - 2s 117us/step - loss: 0.0745 - acc: 0.9805 - val_loss: 0.3339 - val_acc: 0.8807\n",
      "Epoch 17/20\n",
      "15000/15000 [==============================] - 2s 120us/step - loss: 0.0668 - acc: 0.9831 - val_loss: 0.3378 - val_acc: 0.8844\n",
      "Epoch 18/20\n",
      "15000/15000 [==============================] - 2s 126us/step - loss: 0.0600 - acc: 0.9851 - val_loss: 0.3567 - val_acc: 0.8791\n",
      "Epoch 19/20\n",
      "15000/15000 [==============================] - 2s 149us/step - loss: 0.0535 - acc: 0.9879 - val_loss: 0.3687 - val_acc: 0.8827\n",
      "Epoch 20/20\n",
      "15000/15000 [==============================] - 2s 127us/step - loss: 0.0474 - acc: 0.9893 - val_loss: 0.3834 - val_acc: 0.8799\n"
     ]
    }
   ],
   "source": [
    "# 分别开始训练\n",
    "his_small = small_model().fit(partial_x_train, partial_y_train, epochs=20, batch_size=512, validation_data=(x_val, y_val))\n",
    "his_small_dict = his_small.history"
   ]
  },
  {
   "cell_type": "code",
   "execution_count": 15,
   "metadata": {},
   "outputs": [
    {
     "name": "stdout",
     "output_type": "stream",
     "text": [
      "Train on 15000 samples, validate on 10000 samples\n",
      "Epoch 1/20\n",
      "15000/15000 [==============================] - 3s 168us/step - loss: 0.5363 - acc: 0.7761 - val_loss: 0.2944 - val_acc: 0.8824\n",
      "Epoch 2/20\n",
      "15000/15000 [==============================] - 2s 132us/step - loss: 0.2591 - acc: 0.9010 - val_loss: 0.4881 - val_acc: 0.8058\n",
      "Epoch 3/20\n",
      "15000/15000 [==============================] - 2s 130us/step - loss: 0.1536 - acc: 0.9425 - val_loss: 0.3603 - val_acc: 0.8422\n",
      "Epoch 4/20\n",
      "15000/15000 [==============================] - 2s 136us/step - loss: 0.0735 - acc: 0.9739 - val_loss: 0.4101 - val_acc: 0.8787\n",
      "Epoch 5/20\n",
      "15000/15000 [==============================] - 2s 132us/step - loss: 0.1243 - acc: 0.9772 - val_loss: 0.3255 - val_acc: 0.8885\n",
      "Epoch 6/20\n",
      "15000/15000 [==============================] - 2s 140us/step - loss: 0.0047 - acc: 0.9995 - val_loss: 0.4786 - val_acc: 0.8872\n",
      "Epoch 7/20\n",
      "15000/15000 [==============================] - 2s 129us/step - loss: 6.2986e-04 - acc: 0.9999 - val_loss: 0.5732 - val_acc: 0.8872\n",
      "Epoch 8/20\n",
      "15000/15000 [==============================] - 2s 131us/step - loss: 8.9235e-05 - acc: 1.0000 - val_loss: 0.6731 - val_acc: 0.8847\n",
      "Epoch 9/20\n",
      "15000/15000 [==============================] - 2s 131us/step - loss: 1.5548e-05 - acc: 1.0000 - val_loss: 0.7502 - val_acc: 0.8851\n",
      "Epoch 10/20\n",
      "15000/15000 [==============================] - 2s 130us/step - loss: 3.5067e-06 - acc: 1.0000 - val_loss: 0.8050 - val_acc: 0.8851\n",
      "Epoch 11/20\n",
      "15000/15000 [==============================] - 2s 130us/step - loss: 1.0071e-06 - acc: 1.0000 - val_loss: 0.8554 - val_acc: 0.8845\n",
      "Epoch 12/20\n",
      "15000/15000 [==============================] - 2s 130us/step - loss: 3.7685e-07 - acc: 1.0000 - val_loss: 0.8974 - val_acc: 0.8842\n",
      "Epoch 13/20\n",
      "15000/15000 [==============================] - 2s 131us/step - loss: 1.9326e-07 - acc: 1.0000 - val_loss: 0.9352 - val_acc: 0.8849\n",
      "Epoch 14/20\n",
      "15000/15000 [==============================] - 2s 131us/step - loss: 1.4133e-07 - acc: 1.0000 - val_loss: 0.9547 - val_acc: 0.8847\n",
      "Epoch 15/20\n",
      "15000/15000 [==============================] - 2s 133us/step - loss: 1.2411e-07 - acc: 1.0000 - val_loss: 0.9669 - val_acc: 0.8841\n",
      "Epoch 16/20\n",
      "15000/15000 [==============================] - 2s 138us/step - loss: 1.1787e-07 - acc: 1.0000 - val_loss: 0.9752 - val_acc: 0.8839\n",
      "Epoch 17/20\n",
      "15000/15000 [==============================] - 2s 132us/step - loss: 1.1493e-07 - acc: 1.0000 - val_loss: 0.9819 - val_acc: 0.8840\n",
      "Epoch 18/20\n",
      "15000/15000 [==============================] - 2s 134us/step - loss: 1.1329e-07 - acc: 1.0000 - val_loss: 0.9876 - val_acc: 0.8842\n",
      "Epoch 19/20\n",
      "15000/15000 [==============================] - 2s 131us/step - loss: 1.1235e-07 - acc: 1.0000 - val_loss: 0.9909 - val_acc: 0.8839\n",
      "Epoch 20/20\n",
      "15000/15000 [==============================] - 2s 129us/step - loss: 1.1173e-07 - acc: 1.0000 - val_loss: 0.9947 - val_acc: 0.8840\n"
     ]
    }
   ],
   "source": [
    "his_big = big_model().fit(partial_x_train, partial_y_train, epochs=20, batch_size=512, validation_data=(x_val, y_val))\n",
    "his_big_dict = his_big.history"
   ]
  },
  {
   "cell_type": "code",
   "execution_count": 16,
   "metadata": {},
   "outputs": [],
   "source": [
    "import matplotlib.pyplot as plt"
   ]
  },
  {
   "cell_type": "code",
   "execution_count": 17,
   "metadata": {},
   "outputs": [],
   "source": [
    "# 对比下几个模型的参数\n",
    "origin_validation_loss_value = his_origin_dict['val_loss']\n",
    "small_validation_loss_value = his_small_dict['val_loss']\n",
    "big_validation_loss_value = his_big_dict['val_loss']\n",
    "Epochs = range(1, len(origin_validation_loss_value) + 1)"
   ]
  },
  {
   "cell_type": "code",
   "execution_count": 18,
   "metadata": {},
   "outputs": [
    {
     "data": {
      "image/png": "[encoded data removed]",
      "text/plain": [
       "<Figure size 432x288 with 1 Axes>"
      ]
     },
     "metadata": {},
     "output_type": "display_data"
    }
   ],
   "source": [
    "# 验证集损失率对比\n",
    "plt.scatter(Epochs, origin_validation_loss_value, marker='+', label='Original Model')\n",
    "plt.scatter(Epochs, small_validation_loss_value, marker='o', label='Smaller Model')\n",
    "plt.xlabel('Epochs')\n",
    "plt.ylabel('Validation Loss')\n",
    "plt.legend()\n",
    "plt.show()"
   ]
  },
  {
   "cell_type": "code",
   "execution_count": 19,
   "metadata": {},
   "outputs": [
    {
     "data": {
      "image/png": "[encoded data removed]",
      "text/plain": [
       "<Figure size 432x288 with 1 Axes>"
      ]
     },
     "metadata": {},
     "output_type": "display_data"
    }
   ],
   "source": [
    "# 验证集损失率对比\n",
    "plt.scatter(Epochs, origin_validation_loss_value, marker='+', label='Original Model')\n",
    "plt.scatter(Epochs, big_validation_loss_value, marker='o', label='Bigger Model')\n",
    "plt.xlabel('Epochs')\n",
    "plt.ylabel('Validation Loss')\n",
    "plt.legend()\n",
    "plt.show()"
   ]
  },
  {
   "cell_type": "code",
   "execution_count": 20,
   "metadata": {},
   "outputs": [],
   "source": [
    "origin_loss_value = his_origin_dict['loss']\n",
    "small_loss_value = his_small_dict['loss']\n",
    "big_loss_value = his_big_dict['loss']"
   ]
  },
  {
   "cell_type": "code",
   "execution_count": 21,
   "metadata": {},
   "outputs": [
    {
     "data": {
      "image/png": "[encoded data removed]",
      "text/plain": [
       "<Figure size 432x288 with 1 Axes>"
      ]
     },
     "metadata": {},
     "output_type": "display_data"
    }
   ],
   "source": [
    "# 训练集损失率对比\n",
    "plt.scatter(Epochs, origin_loss_value, marker='+', label='Original Model')\n",
    "plt.scatter(Epochs, small_loss_value, marker='o', label='Smaller Model')\n",
    "plt.xlabel('Epochs')\n",
    "plt.ylabel('Training Loss')\n",
    "plt.legend()\n",
    "plt.show()"
   ]
  },
  {
   "cell_type": "code",
   "execution_count": 22,
   "metadata": {},
   "outputs": [
    {
     "data": {
      "image/png": "[encoded data removed]",
      "text/plain": [
       "<Figure size 432x288 with 1 Axes>"
      ]
     },
     "metadata": {},
     "output_type": "display_data"
    }
   ],
   "source": [
    "# 训练集损失率对比\n",
    "plt.scatter(Epochs, origin_loss_value, marker='+', label='Original Model')\n",
    "plt.scatter(Epochs, big_loss_value, marker='o', label='Bigger Model')\n",
    "plt.xlabel('Epochs')\n",
    "plt.ylabel('Training Loss')\n",
    "plt.legend()\n",
    "plt.show()"
   ]
  },
  {
   "cell_type": "markdown",
   "metadata": {},
   "source": [
    "由上面可以看出大点模型确实在训练集上的损失是越来越小的，但是验证集却越来越大，说明在大的模型下，程序容易过拟合，所以**减少一定的网络结构可以防止过拟合**"
   ]
  },
  {
   "cell_type": "code",
   "execution_count": 23,
   "metadata": {},
   "outputs": [],
   "source": [
    "from keras import regularizers"
   ]
  },
  {
   "cell_type": "code",
   "execution_count": 24,
   "metadata": {},
   "outputs": [],
   "source": [
    "# L2权重正则化\n",
    "def L2_model():\n",
    "    model = models.Sequential()\n",
    "    model.add(layers.Dense(16, kernel_regularizer=regularizers.l2(0.001), activation='relu', input_shape=(x_val.shape[1], )))\n",
    "    model.add(layers.Dense(16, kernel_regularizer=regularizers.l2(0.001), activation='relu'))\n",
    "    model.add(layers.Dense(1, activation='sigmoid'))\n",
    "    model.compile(optimizer='rmsprop', loss='binary_crossentropy', metrics=['acc'])\n",
    "    return model"
   ]
  },
  {
   "cell_type": "code",
   "execution_count": 25,
   "metadata": {},
   "outputs": [
    {
     "name": "stdout",
     "output_type": "stream",
     "text": [
      "Train on 15000 samples, validate on 10000 samples\n",
      "Epoch 1/20\n",
      "15000/15000 [==============================] - 2s 142us/step - loss: 0.5700 - acc: 0.7876 - val_loss: 0.4846 - val_acc: 0.8243\n",
      "Epoch 2/20\n",
      "15000/15000 [==============================] - 2s 112us/step - loss: 0.3755 - acc: 0.8954 - val_loss: 0.3678 - val_acc: 0.8756\n",
      "Epoch 3/20\n",
      "15000/15000 [==============================] - 2s 113us/step - loss: 0.2948 - acc: 0.9184 - val_loss: 0.3354 - val_acc: 0.8882\n",
      "Epoch 4/20\n",
      "15000/15000 [==============================] - 2s 112us/step - loss: 0.2553 - acc: 0.9304 - val_loss: 0.3374 - val_acc: 0.8826\n",
      "Epoch 5/20\n",
      "15000/15000 [==============================] - 2s 113us/step - loss: 0.2337 - acc: 0.9399 - val_loss: 0.3418 - val_acc: 0.8823\n",
      "Epoch 6/20\n",
      "15000/15000 [==============================] - 2s 119us/step - loss: 0.2180 - acc: 0.9466 - val_loss: 0.3330 - val_acc: 0.8848\n",
      "Epoch 7/20\n",
      "15000/15000 [==============================] - 2s 118us/step - loss: 0.2031 - acc: 0.9526 - val_loss: 0.3396 - val_acc: 0.8857\n",
      "Epoch 8/20\n",
      "15000/15000 [==============================] - 2s 116us/step - loss: 0.1958 - acc: 0.9548 - val_loss: 0.3471 - val_acc: 0.8836\n",
      "Epoch 9/20\n",
      "15000/15000 [==============================] - 2s 114us/step - loss: 0.1888 - acc: 0.9581 - val_loss: 0.3553 - val_acc: 0.8834\n",
      "Epoch 10/20\n",
      "15000/15000 [==============================] - 2s 115us/step - loss: 0.1795 - acc: 0.9600 - val_loss: 0.3686 - val_acc: 0.8758\n",
      "Epoch 11/20\n",
      "15000/15000 [==============================] - 2s 114us/step - loss: 0.1729 - acc: 0.9655 - val_loss: 0.3794 - val_acc: 0.8813\n",
      "Epoch 12/20\n",
      "15000/15000 [==============================] - 2s 114us/step - loss: 0.1683 - acc: 0.9669 - val_loss: 0.3761 - val_acc: 0.8788\n",
      "Epoch 13/20\n",
      "15000/15000 [==============================] - 2s 114us/step - loss: 0.1650 - acc: 0.9664 - val_loss: 0.3919 - val_acc: 0.8740\n",
      "Epoch 14/20\n",
      "15000/15000 [==============================] - 2s 114us/step - loss: 0.1566 - acc: 0.9717 - val_loss: 0.3909 - val_acc: 0.8768\n",
      "Epoch 15/20\n",
      "15000/15000 [==============================] - 2s 116us/step - loss: 0.1573 - acc: 0.9697 - val_loss: 0.4025 - val_acc: 0.8728\n",
      "Epoch 16/20\n",
      "15000/15000 [==============================] - 2s 112us/step - loss: 0.1528 - acc: 0.9716 - val_loss: 0.4131 - val_acc: 0.8695\n",
      "Epoch 17/20\n",
      "15000/15000 [==============================] - 2s 114us/step - loss: 0.1470 - acc: 0.9748 - val_loss: 0.4595 - val_acc: 0.8638\n",
      "Epoch 18/20\n",
      "15000/15000 [==============================] - 2s 114us/step - loss: 0.1424 - acc: 0.9759 - val_loss: 0.4465 - val_acc: 0.8705\n",
      "Epoch 19/20\n",
      "15000/15000 [==============================] - 2s 113us/step - loss: 0.1436 - acc: 0.9759 - val_loss: 0.4266 - val_acc: 0.8698\n",
      "Epoch 20/20\n",
      "15000/15000 [==============================] - 2s 115us/step - loss: 0.1355 - acc: 0.9800 - val_loss: 0.4267 - val_acc: 0.8743\n"
     ]
    }
   ],
   "source": [
    "# L2正则化开始训练\n",
    "his_L2 = L2_model().fit(partial_x_train, partial_y_train, epochs=20, batch_size=512, validation_data=(x_val, y_val))\n",
    "his_L2_dict = his_L2.history"
   ]
  },
  {
   "cell_type": "code",
   "execution_count": 26,
   "metadata": {},
   "outputs": [
    {
     "data": {
      "image/png": "[encoded data removed]",
      "text/plain": [
       "<Figure size 432x288 with 1 Axes>"
      ]
     },
     "metadata": {},
     "output_type": "display_data"
    }
   ],
   "source": [
    "# 绘制L2正则化曲线\n",
    "L2_validation_loss_value = his_L2_dict['val_loss']\n",
    "plt.scatter(Epochs, origin_validation_loss_value, marker='+', label='Original Model')\n",
    "plt.scatter(Epochs, L2_validation_loss_value, marker='o', label='L2-regularized Model')\n",
    "plt.xlabel('Epochs')\n",
    "plt.ylabel('Validation Loss')\n",
    "plt.legend()\n",
    "plt.show()"
   ]
  },
  {
   "cell_type": "markdown",
   "metadata": {},
   "source": [
    "由上面可以看出调加了L2正则化的散点图的loss是比较稳定的，所以**调加一定的L2正则化可以防止过拟合**"
   ]
  },
  {
   "cell_type": "code",
   "execution_count": 27,
   "metadata": {},
   "outputs": [],
   "source": [
    "# Dropout正则化\n",
    "def Dropout_model():\n",
    "    model = models.Sequential()\n",
    "    model.add(layers.Dense(16, activation='relu', input_shape=(x_val.shape[1], )))\n",
    "    model.add(layers.Dropout(0.5))\n",
    "    model.add(layers.Dense(16, activation='relu'))\n",
    "    model.add(layers.Dropout(0.5))\n",
    "    model.add(layers.Dense(1, activation='sigmoid'))\n",
    "    model.compile(optimizer='rmsprop', loss='binary_crossentropy', metrics=['acc'])\n",
    "    return model"
   ]
  },
  {
   "cell_type": "code",
   "execution_count": 28,
   "metadata": {},
   "outputs": [
    {
     "name": "stdout",
     "output_type": "stream",
     "text": [
      "Train on 15000 samples, validate on 10000 samples\n",
      "Epoch 1/20\n",
      "15000/15000 [==============================] - 2s 142us/step - loss: 0.6383 - acc: 0.6236 - val_loss: 0.5497 - val_acc: 0.8381\n",
      "Epoch 2/20\n",
      "15000/15000 [==============================] - 2s 120us/step - loss: 0.5392 - acc: 0.7463 - val_loss: 0.4584 - val_acc: 0.8383\n",
      "Epoch 3/20\n",
      "15000/15000 [==============================] - 2s 119us/step - loss: 0.4616 - acc: 0.8129 - val_loss: 0.4049 - val_acc: 0.8526\n",
      "Epoch 4/20\n",
      "15000/15000 [==============================] - 2s 114us/step - loss: 0.4007 - acc: 0.8477 - val_loss: 0.3372 - val_acc: 0.8834\n",
      "Epoch 5/20\n",
      "15000/15000 [==============================] - 2s 118us/step - loss: 0.3480 - acc: 0.8749 - val_loss: 0.3140 - val_acc: 0.8842\n",
      "Epoch 6/20\n",
      "15000/15000 [==============================] - 2s 117us/step - loss: 0.3063 - acc: 0.8989 - val_loss: 0.3048 - val_acc: 0.8868\n",
      "Epoch 7/20\n",
      "15000/15000 [==============================] - 2s 116us/step - loss: 0.2686 - acc: 0.9145 - val_loss: 0.3007 - val_acc: 0.8871\n",
      "Epoch 8/20\n",
      "15000/15000 [==============================] - 2s 115us/step - loss: 0.2446 - acc: 0.9274 - val_loss: 0.2937 - val_acc: 0.8831\n",
      "Epoch 9/20\n",
      "15000/15000 [==============================] - 2s 114us/step - loss: 0.2218 - acc: 0.9349 - val_loss: 0.3047 - val_acc: 0.8843\n",
      "Epoch 10/20\n",
      "15000/15000 [==============================] - 2s 115us/step - loss: 0.1960 - acc: 0.9439 - val_loss: 0.3337 - val_acc: 0.8876\n",
      "Epoch 11/20\n",
      "15000/15000 [==============================] - 2s 119us/step - loss: 0.1826 - acc: 0.9483 - val_loss: 0.3496 - val_acc: 0.8861\n",
      "Epoch 12/20\n",
      "15000/15000 [==============================] - 2s 116us/step - loss: 0.1734 - acc: 0.9513 - val_loss: 0.3417 - val_acc: 0.8776\n",
      "Epoch 13/20\n",
      "15000/15000 [==============================] - 2s 118us/step - loss: 0.1530 - acc: 0.9584 - val_loss: 0.3930 - val_acc: 0.8832\n",
      "Epoch 14/20\n",
      "15000/15000 [==============================] - 2s 122us/step - loss: 0.1408 - acc: 0.9639 - val_loss: 0.3711 - val_acc: 0.8799\n",
      "Epoch 15/20\n",
      "15000/15000 [==============================] - 2s 122us/step - loss: 0.1339 - acc: 0.9653 - val_loss: 0.4060 - val_acc: 0.8823\n",
      "Epoch 16/20\n",
      "15000/15000 [==============================] - 2s 121us/step - loss: 0.1238 - acc: 0.9703 - val_loss: 0.4155 - val_acc: 0.8794\n",
      "Epoch 17/20\n",
      "15000/15000 [==============================] - 2s 119us/step - loss: 0.1137 - acc: 0.9717 - val_loss: 0.5004 - val_acc: 0.8811\n",
      "Epoch 18/20\n",
      "15000/15000 [==============================] - 2s 122us/step - loss: 0.1124 - acc: 0.9727 - val_loss: 0.4665 - val_acc: 0.8832\n",
      "Epoch 19/20\n",
      "15000/15000 [==============================] - 2s 121us/step - loss: 0.1047 - acc: 0.9735 - val_loss: 0.4812 - val_acc: 0.8801\n",
      "Epoch 20/20\n",
      "15000/15000 [==============================] - 2s 117us/step - loss: 0.1039 - acc: 0.9756 - val_loss: 0.5312 - val_acc: 0.8817\n"
     ]
    }
   ],
   "source": [
    "# 开始训练\n",
    "his_dropout = Dropout_model().fit(partial_x_train, partial_y_train, epochs=20, batch_size=512, validation_data=(x_val, y_val))\n",
    "his_dropout_dict = his_dropout.history"
   ]
  },
  {
   "cell_type": "code",
   "execution_count": 29,
   "metadata": {},
   "outputs": [
    {
     "data": {
      "image/png": "[encoded data removed]",
      "text/plain": [
       "<Figure size 432x288 with 1 Axes>"
      ]
     },
     "metadata": {},
     "output_type": "display_data"
    }
   ],
   "source": [
    "# 绘制Dropout正则化曲线\n",
    "dropout_validation_loss_value = his_dropout_dict['val_loss']\n",
    "plt.scatter(Epochs, origin_validation_loss_value, marker='+', label='Original Model')\n",
    "plt.scatter(Epochs, dropout_validation_loss_value, marker='o', label='Dropout-regularized Model')\n",
    "plt.xlabel('Epochs')\n",
    "plt.ylabel('Validation Loss')\n",
    "plt.legend()\n",
    "plt.show()"
   ]
  },
  {
   "cell_type": "markdown",
   "metadata": {},
   "source": [
    "由上面可以看出调加了Dropout的散点图的loss是比原来的模型稳定，**所以调加一定的Dropout正则化可以防止过拟合**"
   ]
  },
  {
   "cell_type": "code",
   "execution_count": 30,
   "metadata": {},
   "outputs": [],
   "source": [
    "# Dropout + L2正则化\n",
    "def Dropout_L2_model():\n",
    "    model = models.Sequential()\n",
    "    model.add(layers.Dense(16, kernel_regularizer=regularizers.l2(0.001), activation='relu', input_shape=(x_val.shape[1], )))\n",
    "    model.add(layers.Dropout(0.5))\n",
    "    model.add(layers.Dense(16, kernel_regularizer=regularizers.l2(0.001), activation='relu'))\n",
    "    model.add(layers.Dropout(0.5))\n",
    "    model.add(layers.Dense(1, activation='sigmoid'))\n",
    "    model.compile(optimizer='rmsprop', loss='binary_crossentropy', metrics=['acc'])\n",
    "    return model"
   ]
  },
  {
   "cell_type": "code",
   "execution_count": 31,
   "metadata": {},
   "outputs": [
    {
     "name": "stdout",
     "output_type": "stream",
     "text": [
      "Train on 15000 samples, validate on 10000 samples\n",
      "Epoch 1/20\n",
      "15000/15000 [==============================] - 2s 154us/step - loss: 0.6713 - acc: 0.6279 - val_loss: 0.5633 - val_acc: 0.8419\n",
      "Epoch 2/20\n",
      "15000/15000 [==============================] - 2s 116us/step - loss: 0.5581 - acc: 0.7455 - val_loss: 0.4636 - val_acc: 0.8599\n",
      "Epoch 3/20\n",
      "15000/15000 [==============================] - 2s 118us/step - loss: 0.4769 - acc: 0.8097 - val_loss: 0.3932 - val_acc: 0.8773\n",
      "Epoch 4/20\n",
      "15000/15000 [==============================] - 2s 115us/step - loss: 0.4163 - acc: 0.8527 - val_loss: 0.3493 - val_acc: 0.8834\n",
      "Epoch 5/20\n",
      "15000/15000 [==============================] - 2s 114us/step - loss: 0.3694 - acc: 0.8815 - val_loss: 0.3324 - val_acc: 0.8857\n",
      "Epoch 6/20\n",
      "15000/15000 [==============================] - 2s 117us/step - loss: 0.3381 - acc: 0.8983 - val_loss: 0.3598 - val_acc: 0.8742\n",
      "Epoch 7/20\n",
      "15000/15000 [==============================] - 2s 120us/step - loss: 0.3128 - acc: 0.9086 - val_loss: 0.3331 - val_acc: 0.8874\n",
      "Epoch 8/20\n",
      "15000/15000 [==============================] - 2s 119us/step - loss: 0.2885 - acc: 0.9191 - val_loss: 0.3353 - val_acc: 0.8858\n",
      "Epoch 9/20\n",
      "15000/15000 [==============================] - 2s 120us/step - loss: 0.2767 - acc: 0.9230 - val_loss: 0.3502 - val_acc: 0.8827\n",
      "Epoch 10/20\n",
      "15000/15000 [==============================] - 2s 116us/step - loss: 0.2623 - acc: 0.9298 - val_loss: 0.3644 - val_acc: 0.8819\n",
      "Epoch 11/20\n",
      "15000/15000 [==============================] - 2s 116us/step - loss: 0.2521 - acc: 0.9328 - val_loss: 0.3492 - val_acc: 0.8840\n",
      "Epoch 12/20\n",
      "15000/15000 [==============================] - 2s 114us/step - loss: 0.2426 - acc: 0.9350 - val_loss: 0.3584 - val_acc: 0.8835\n",
      "Epoch 13/20\n",
      "15000/15000 [==============================] - 2s 114us/step - loss: 0.2311 - acc: 0.9421 - val_loss: 0.3694 - val_acc: 0.8816\n",
      "Epoch 14/20\n",
      "15000/15000 [==============================] - 2s 116us/step - loss: 0.2263 - acc: 0.9437 - val_loss: 0.3838 - val_acc: 0.8755\n",
      "Epoch 15/20\n",
      "15000/15000 [==============================] - 2s 115us/step - loss: 0.2195 - acc: 0.9447 - val_loss: 0.3860 - val_acc: 0.8800\n",
      "Epoch 16/20\n",
      "15000/15000 [==============================] - 2s 114us/step - loss: 0.2107 - acc: 0.9477 - val_loss: 0.4110 - val_acc: 0.8798\n",
      "Epoch 17/20\n",
      "15000/15000 [==============================] - 2s 114us/step - loss: 0.2111 - acc: 0.9482 - val_loss: 0.4351 - val_acc: 0.8776\n",
      "Epoch 18/20\n",
      "15000/15000 [==============================] - 2s 118us/step - loss: 0.2075 - acc: 0.9473 - val_loss: 0.4255 - val_acc: 0.8786\n",
      "Epoch 19/20\n",
      "15000/15000 [==============================] - 2s 115us/step - loss: 0.1992 - acc: 0.9504 - val_loss: 0.4332 - val_acc: 0.8770\n",
      "Epoch 20/20\n",
      "15000/15000 [==============================] - 2s 115us/step - loss: 0.1963 - acc: 0.9546 - val_loss: 0.4513 - val_acc: 0.8777\n"
     ]
    }
   ],
   "source": [
    "# 开始训练\n",
    "his_dropout_l2 = Dropout_L2_model().fit(partial_x_train, partial_y_train, epochs=20, batch_size=512, validation_data=(x_val, y_val))\n",
    "his_dropout_l2_dict = his_dropout_l2.history"
   ]
  },
  {
   "cell_type": "code",
   "execution_count": 32,
   "metadata": {},
   "outputs": [
    {
     "data": {
      "image/png": "[encoded data removed]",
      "text/plain": [
       "<Figure size 432x288 with 1 Axes>"
      ]
     },
     "metadata": {},
     "output_type": "display_data"
    }
   ],
   "source": [
    "# 绘制Dropout + L2正则化曲线\n",
    "dropout_l2_validation_loss_value = his_dropout_l2_dict['val_loss']\n",
    "plt.scatter(Epochs, origin_validation_loss_value, marker='+', label='Original Model')\n",
    "plt.scatter(Epochs, dropout_l2_validation_loss_value, marker='o', label='Dropout-L2-regularized Model')\n",
    "plt.xlabel('Epochs')\n",
    "plt.ylabel('Validation Loss')\n",
    "plt.legend()\n",
    "plt.show()"
   ]
  },
  {
   "cell_type": "code",
   "execution_count": 33,
   "metadata": {},
   "outputs": [
    {
     "data": {
      "image/png": "[encoded data removed]",
      "text/plain": [
       "<Figure size 432x288 with 1 Axes>"
      ]
     },
     "metadata": {},
     "output_type": "display_data"
    }
   ],
   "source": [
    "dropout_l2_loss_value = his_dropout_l2_dict['loss']\n",
    "plt.scatter(Epochs, origin_loss_value, marker='+', label='Original Model')\n",
    "plt.scatter(Epochs, dropout_l2_loss_value, marker='o', label='Dropout-L2-regularized Model')\n",
    "plt.xlabel('Epochs')\n",
    "plt.ylabel('Training Loss')\n",
    "plt.legend()\n",
    "plt.show()"
   ]
  },
  {
   "cell_type": "code",
   "execution_count": null,
   "metadata": {},
   "outputs": [],
   "source": []
  }
 ],
 "metadata": {
  "kernelspec": {
   "display_name": "Python 3",
   "language": "python",
   "name": "python3"
  },
  "language_info": {
   "codemirror_mode": {
    "name": "ipython",
    "version": 3
   },
   "file_extension": ".py",
   "mimetype": "text/x-python",
   "name": "python",
   "nbconvert_exporter": "python",
   "pygments_lexer": "ipython3",
   "version": "3.6.5"
  }
 },
 "nbformat": 4,
 "nbformat_minor": 2
}
