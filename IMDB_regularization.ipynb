{
 "cells": [
  {
   "cell_type": "code",
   "execution_count": 1,
   "metadata": {},
   "outputs": [],
   "source": [
    "from keras.datasets import imdb"
   ]
  },
  {
   "cell_type": "code",
   "execution_count": 3,
   "metadata": {},
   "outputs": [],
   "source": [
    "(train_data, train_labels), (test_data, test_labels) = imdb.load_data(num_words=10000)"
   ]
  },
  {
   "cell_type": "code",
   "execution_count": 5,
   "metadata": {},
   "outputs": [
    {
     "name": "stdout",
     "output_type": "stream",
     "text": [
      "(25000,) (25000,)\n"
     ]
    }
   ],
   "source": [
    "print(train_data.shape, test_data.shape)"
   ]
  },
  {
   "cell_type": "code",
   "execution_count": 6,
   "metadata": {},
   "outputs": [],
   "source": [
    "import numpy as np"
   ]
  },
  {
   "cell_type": "code",
   "execution_count": 7,
   "metadata": {},
   "outputs": [],
   "source": [
    "def vectorize_sequences(sequences, dimention=10000):\n",
    "    results = np.zeros((len(sequences), dimention))\n",
    "    for i, sequence in enumerate(sequences):\n",
    "        results[i, sequence] = 1.\n",
    "    return results"
   ]
  },
  {
   "cell_type": "code",
   "execution_count": 8,
   "metadata": {},
   "outputs": [],
   "source": [
    "x_train = vectorize_sequences(train_data)\n",
    "x_test = vectorize_sequences(test_data)"
   ]
  },
  {
   "cell_type": "code",
   "execution_count": 9,
   "metadata": {},
   "outputs": [],
   "source": [
    "y_train = np.asarray(train_labels).astype('float32')\n",
    "y_test = np.asarray(test_labels).astype('float32')"
   ]
  },
  {
   "cell_type": "code",
   "execution_count": 16,
   "metadata": {},
   "outputs": [],
   "source": [
    "x_val = x_train[:10000]\n",
    "partial_x_train = x_train[10000:]\n",
    "y_val = y_train[:10000]\n",
    "partial_y_train = y_train[10000:]"
   ]
  },
  {
   "cell_type": "code",
   "execution_count": 11,
   "metadata": {},
   "outputs": [],
   "source": [
    "from keras import models\n",
    "from keras import layers"
   ]
  },
  {
   "cell_type": "code",
   "execution_count": 15,
   "metadata": {},
   "outputs": [],
   "source": [
    "def origin_model():\n",
    "    model = models.Sequential()\n",
    "    model.add(layers.Dense(16, activation='relu', input_shape = (x_val.shape[1], )))\n",
    "    model.add(layers.Dense(16, activation='relu'))\n",
    "    model.add(layers.Dense(1, activation='sigmoid'))\n",
    "    model.compile(optimizer='rmsprop', loss='binary_crossentropy', metrics=['acc'])\n",
    "    return model"
   ]
  },
  {
   "cell_type": "code",
   "execution_count": 18,
   "metadata": {},
   "outputs": [
    {
     "name": "stdout",
     "output_type": "stream",
     "text": [
      "Train on 15000 samples, validate on 10000 samples\n",
      "Epoch 1/20\n",
      "15000/15000 [==============================] - 7s 476us/step - loss: 0.5084 - acc: 0.7813 - val_loss: 0.3797 - val_acc: 0.8684\n",
      "Epoch 2/20\n",
      "15000/15000 [==============================] - 3s 181us/step - loss: 0.3004 - acc: 0.9047 - val_loss: 0.3004 - val_acc: 0.8897\n",
      "Epoch 3/20\n",
      "15000/15000 [==============================] - 3s 177us/step - loss: 0.2179 - acc: 0.9285 - val_loss: 0.3085 - val_acc: 0.8711\n",
      "Epoch 4/20\n",
      "15000/15000 [==============================] - 3s 191us/step - loss: 0.1750 - acc: 0.9437 - val_loss: 0.2840 - val_acc: 0.8832\n",
      "Epoch 5/20\n",
      "15000/15000 [==============================] - 3s 184us/step - loss: 0.1427 - acc: 0.9543 - val_loss: 0.2841 - val_acc: 0.8872\n",
      "Epoch 6/20\n",
      "15000/15000 [==============================] - 3s 190us/step - loss: 0.1150 - acc: 0.9650 - val_loss: 0.3166 - val_acc: 0.8772\n",
      "Epoch 7/20\n",
      "15000/15000 [==============================] - 3s 179us/step - loss: 0.0980 - acc: 0.9705 - val_loss: 0.3127 - val_acc: 0.8846\n",
      "Epoch 8/20\n",
      "15000/15000 [==============================] - 3s 179us/step - loss: 0.0807 - acc: 0.9763 - val_loss: 0.3859 - val_acc: 0.8649\n",
      "Epoch 9/20\n",
      "15000/15000 [==============================] - 3s 181us/step - loss: 0.0661 - acc: 0.9821 - val_loss: 0.3635 - val_acc: 0.8782\n",
      "Epoch 10/20\n",
      "15000/15000 [==============================] - 3s 197us/step - loss: 0.0561 - acc: 0.9853 - val_loss: 0.3843 - val_acc: 0.8792\n",
      "Epoch 11/20\n",
      "15000/15000 [==============================] - 3s 182us/step - loss: 0.0439 - acc: 0.9893 - val_loss: 0.4153 - val_acc: 0.8779\n",
      "Epoch 12/20\n",
      "15000/15000 [==============================] - 3s 186us/step - loss: 0.0381 - acc: 0.9921 - val_loss: 0.4525 - val_acc: 0.8690\n",
      "Epoch 13/20\n",
      "15000/15000 [==============================] - 3s 193us/step - loss: 0.0300 - acc: 0.9928 - val_loss: 0.4698 - val_acc: 0.8729\n",
      "Epoch 14/20\n",
      "15000/15000 [==============================] - 3s 185us/step - loss: 0.0247 - acc: 0.9945 - val_loss: 0.5023 - val_acc: 0.8726\n",
      "Epoch 15/20\n",
      "15000/15000 [==============================] - 3s 180us/step - loss: 0.0175 - acc: 0.9979 - val_loss: 0.5342 - val_acc: 0.8693\n",
      "Epoch 16/20\n",
      "15000/15000 [==============================] - 3s 176us/step - loss: 0.0149 - acc: 0.9983 - val_loss: 0.5710 - val_acc: 0.8698\n",
      "Epoch 17/20\n",
      "15000/15000 [==============================] - 3s 178us/step - loss: 0.0151 - acc: 0.9971 - val_loss: 0.6025 - val_acc: 0.8697\n",
      "Epoch 18/20\n",
      "15000/15000 [==============================] - 3s 179us/step - loss: 0.0075 - acc: 0.9996 - val_loss: 0.6782 - val_acc: 0.8633\n",
      "Epoch 19/20\n",
      "15000/15000 [==============================] - 3s 176us/step - loss: 0.0117 - acc: 0.9975 - val_loss: 0.6693 - val_acc: 0.8673\n",
      "Epoch 20/20\n",
      "15000/15000 [==============================] - 3s 181us/step - loss: 0.0041 - acc: 0.9999 - val_loss: 0.6942 - val_acc: 0.8658\n"
     ]
    }
   ],
   "source": [
    "his_origin = origin_model().fit(partial_x_train, partial_y_train, epochs=20, batch_size=512, validation_data=(x_val, y_val))"
   ]
  },
  {
   "cell_type": "code",
   "execution_count": 20,
   "metadata": {},
   "outputs": [],
   "source": [
    "his_origin_dict = his_origin.history"
   ]
  },
  {
   "cell_type": "code",
   "execution_count": 21,
   "metadata": {},
   "outputs": [
    {
     "data": {
      "text/plain": [
       "dict_keys(['val_loss', 'val_acc', 'loss', 'acc'])"
      ]
     },
     "execution_count": 21,
     "metadata": {},
     "output_type": "execute_result"
    }
   ],
   "source": [
    "his_origin_dict.keys()"
   ]
  },
  {
   "cell_type": "code",
   "execution_count": 22,
   "metadata": {},
   "outputs": [],
   "source": [
    "def small_model():\n",
    "    model = models.Sequential()\n",
    "    model.add(layers.Dense(4, activation='relu', input_shape = (x_val.shape[1], )))\n",
    "    model.add(layers.Dense(4, activation='relu'))\n",
    "    model.add(layers.Dense(1, activation='sigmoid'))\n",
    "    model.compile(optimizer='rmsprop', loss='binary_crossentropy', metrics=['acc'])\n",
    "    return model"
   ]
  },
  {
   "cell_type": "code",
   "execution_count": 23,
   "metadata": {},
   "outputs": [],
   "source": [
    "def big_model():\n",
    "    model = models.Sequential()\n",
    "    model.add(layers.Dense(512, activation='relu', input_shape = (x_val.shape[1], )))\n",
    "    model.add(layers.Dense(512, activation='relu'))\n",
    "    model.add(layers.Dense(1, activation='sigmoid'))\n",
    "    model.compile(optimizer='rmsprop', loss='binary_crossentropy', metrics=['acc'])\n",
    "    return model"
   ]
  },
  {
   "cell_type": "code",
   "execution_count": 24,
   "metadata": {},
   "outputs": [
    {
     "name": "stdout",
     "output_type": "stream",
     "text": [
      "Train on 15000 samples, validate on 10000 samples\n",
      "Epoch 1/20\n",
      "15000/15000 [==============================] - 3s 225us/step - loss: 0.6050 - acc: 0.7685 - val_loss: 0.5338 - val_acc: 0.8324\n",
      "Epoch 2/20\n",
      "15000/15000 [==============================] - 3s 178us/step - loss: 0.4635 - acc: 0.8736 - val_loss: 0.4312 - val_acc: 0.8628\n",
      "Epoch 3/20\n",
      "15000/15000 [==============================] - 3s 178us/step - loss: 0.3712 - acc: 0.8937 - val_loss: 0.3685 - val_acc: 0.8749\n",
      "Epoch 4/20\n",
      "15000/15000 [==============================] - 3s 178us/step - loss: 0.3052 - acc: 0.9095 - val_loss: 0.3337 - val_acc: 0.8755\n",
      "Epoch 5/20\n",
      "15000/15000 [==============================] - 3s 179us/step - loss: 0.2585 - acc: 0.9204 - val_loss: 0.3015 - val_acc: 0.8869\n",
      "Epoch 6/20\n",
      "15000/15000 [==============================] - 3s 188us/step - loss: 0.2233 - acc: 0.9293 - val_loss: 0.2844 - val_acc: 0.8913\n",
      "Epoch 7/20\n",
      "15000/15000 [==============================] - 3s 175us/step - loss: 0.1961 - acc: 0.9375 - val_loss: 0.2792 - val_acc: 0.8907\n",
      "Epoch 8/20\n",
      "15000/15000 [==============================] - 3s 180us/step - loss: 0.1745 - acc: 0.9453 - val_loss: 0.2718 - val_acc: 0.8903\n",
      "Epoch 9/20\n",
      "15000/15000 [==============================] - 3s 175us/step - loss: 0.1556 - acc: 0.9527 - val_loss: 0.2713 - val_acc: 0.8904\n",
      "Epoch 10/20\n",
      "15000/15000 [==============================] - 3s 186us/step - loss: 0.1396 - acc: 0.9563 - val_loss: 0.2771 - val_acc: 0.8886\n",
      "Epoch 11/20\n",
      "15000/15000 [==============================] - 3s 174us/step - loss: 0.1258 - acc: 0.9617 - val_loss: 0.2788 - val_acc: 0.8908\n",
      "Epoch 12/20\n",
      "15000/15000 [==============================] - 3s 174us/step - loss: 0.1127 - acc: 0.9669 - val_loss: 0.2909 - val_acc: 0.8846\n",
      "Epoch 13/20\n",
      "15000/15000 [==============================] - 3s 176us/step - loss: 0.1022 - acc: 0.9714 - val_loss: 0.2925 - val_acc: 0.8880\n",
      "Epoch 14/20\n",
      "15000/15000 [==============================] - 3s 182us/step - loss: 0.0921 - acc: 0.9748 - val_loss: 0.3018 - val_acc: 0.8860\n",
      "Epoch 15/20\n",
      "15000/15000 [==============================] - 3s 180us/step - loss: 0.0828 - acc: 0.9769 - val_loss: 0.3144 - val_acc: 0.8857\n",
      "Epoch 16/20\n",
      "15000/15000 [==============================] - 3s 183us/step - loss: 0.0745 - acc: 0.9805 - val_loss: 0.3339 - val_acc: 0.8807\n",
      "Epoch 17/20\n",
      "15000/15000 [==============================] - 3s 178us/step - loss: 0.0668 - acc: 0.9831 - val_loss: 0.3378 - val_acc: 0.8844\n",
      "Epoch 18/20\n",
      "15000/15000 [==============================] - 3s 178us/step - loss: 0.0600 - acc: 0.9851 - val_loss: 0.3567 - val_acc: 0.8791\n",
      "Epoch 19/20\n",
      "15000/15000 [==============================] - 3s 179us/step - loss: 0.0535 - acc: 0.9879 - val_loss: 0.3687 - val_acc: 0.8827\n",
      "Epoch 20/20\n",
      "15000/15000 [==============================] - 3s 181us/step - loss: 0.0474 - acc: 0.9893 - val_loss: 0.3834 - val_acc: 0.8799\n"
     ]
    }
   ],
   "source": [
    "his_small = small_model().fit(partial_x_train, partial_y_train, epochs=20, batch_size=512, validation_data=(x_val, y_val))\n",
    "his_small_dict = his_small.history"
   ]
  },
  {
   "cell_type": "code",
   "execution_count": 25,
   "metadata": {},
   "outputs": [
    {
     "data": {
      "text/plain": [
       "dict_keys(['val_loss', 'val_acc', 'loss', 'acc'])"
      ]
     },
     "execution_count": 25,
     "metadata": {},
     "output_type": "execute_result"
    }
   ],
   "source": [
    "his_small_dict.keys()"
   ]
  },
  {
   "cell_type": "code",
   "execution_count": 26,
   "metadata": {},
   "outputs": [
    {
     "name": "stdout",
     "output_type": "stream",
     "text": [
      "Train on 15000 samples, validate on 10000 samples\n",
      "Epoch 1/20\n",
      "15000/15000 [==============================] - 4s 285us/step - loss: 0.5329 - acc: 0.7753 - val_loss: 0.2883 - val_acc: 0.8817\n",
      "Epoch 2/20\n",
      "15000/15000 [==============================] - 4s 259us/step - loss: 0.2713 - acc: 0.8939 - val_loss: 0.2983 - val_acc: 0.8778\n",
      "Epoch 3/20\n",
      "15000/15000 [==============================] - 4s 250us/step - loss: 0.1579 - acc: 0.9418 - val_loss: 0.2716 - val_acc: 0.8935\n",
      "Epoch 4/20\n",
      "15000/15000 [==============================] - 4s 247us/step - loss: 0.0902 - acc: 0.9701 - val_loss: 0.3724 - val_acc: 0.8838\n",
      "Epoch 5/20\n",
      "15000/15000 [==============================] - 4s 252us/step - loss: 0.1099 - acc: 0.9761 - val_loss: 0.3088 - val_acc: 0.8878\n",
      "Epoch 6/20\n",
      "15000/15000 [==============================] - 4s 244us/step - loss: 0.0069 - acc: 0.9994 - val_loss: 0.5204 - val_acc: 0.8816\n",
      "Epoch 7/20\n",
      "15000/15000 [==============================] - 4s 261us/step - loss: 8.5642e-04 - acc: 0.9999 - val_loss: 0.5680 - val_acc: 0.8861\n",
      "Epoch 8/20\n",
      "15000/15000 [==============================] - 4s 250us/step - loss: 1.2042e-04 - acc: 1.0000 - val_loss: 0.6523 - val_acc: 0.8858\n",
      "Epoch 9/20\n",
      "15000/15000 [==============================] - 4s 246us/step - loss: 2.1350e-05 - acc: 1.0000 - val_loss: 0.7254 - val_acc: 0.8856\n",
      "Epoch 10/20\n",
      "15000/15000 [==============================] - 4s 247us/step - loss: 4.6674e-06 - acc: 1.0000 - val_loss: 0.7881 - val_acc: 0.8854\n",
      "Epoch 11/20\n",
      "15000/15000 [==============================] - 4s 256us/step - loss: 1.3212e-06 - acc: 1.0000 - val_loss: 0.8367 - val_acc: 0.8856\n",
      "Epoch 12/20\n",
      "15000/15000 [==============================] - 4s 255us/step - loss: 4.5155e-07 - acc: 1.0000 - val_loss: 0.8790 - val_acc: 0.8851\n",
      "Epoch 13/20\n",
      "15000/15000 [==============================] - 4s 261us/step - loss: 2.1123e-07 - acc: 1.0000 - val_loss: 0.9150 - val_acc: 0.8845\n",
      "Epoch 14/20\n",
      "15000/15000 [==============================] - 4s 256us/step - loss: 1.4605e-07 - acc: 1.0000 - val_loss: 0.9361 - val_acc: 0.8846\n",
      "Epoch 15/20\n",
      "15000/15000 [==============================] - 4s 253us/step - loss: 1.2548e-07 - acc: 1.0000 - val_loss: 0.9500 - val_acc: 0.8851\n",
      "Epoch 16/20\n",
      "15000/15000 [==============================] - 4s 253us/step - loss: 1.1851e-07 - acc: 1.0000 - val_loss: 0.9588 - val_acc: 0.8850\n",
      "Epoch 17/20\n",
      "15000/15000 [==============================] - 4s 251us/step - loss: 1.1524e-07 - acc: 1.0000 - val_loss: 0.9651 - val_acc: 0.8851\n",
      "Epoch 18/20\n",
      "15000/15000 [==============================] - 4s 262us/step - loss: 1.1355e-07 - acc: 1.0000 - val_loss: 0.9700 - val_acc: 0.8852loss: 1.1305e-07\n",
      "Epoch 19/20\n",
      "15000/15000 [==============================] - 4s 265us/step - loss: 1.1247e-07 - acc: 1.0000 - val_loss: 0.9740 - val_acc: 0.8850\n",
      "Epoch 20/20\n",
      "15000/15000 [==============================] - 4s 256us/step - loss: 1.1189e-07 - acc: 1.0000 - val_loss: 0.9771 - val_acc: 0.8851\n"
     ]
    }
   ],
   "source": [
    "his_big = big_model().fit(partial_x_train, partial_y_train, epochs=20, batch_size=512, validation_data=(x_val, y_val))\n",
    "his_big_dict = his_big.history"
   ]
  },
  {
   "cell_type": "code",
   "execution_count": 27,
   "metadata": {},
   "outputs": [
    {
     "data": {
      "text/plain": [
       "dict_keys(['val_loss', 'val_acc', 'loss', 'acc'])"
      ]
     },
     "execution_count": 27,
     "metadata": {},
     "output_type": "execute_result"
    }
   ],
   "source": [
    "his_big_dict.keys()"
   ]
  },
  {
   "cell_type": "code",
   "execution_count": 28,
   "metadata": {},
   "outputs": [],
   "source": [
    "import matplotlib.pyplot as plt"
   ]
  },
  {
   "cell_type": "code",
   "execution_count": 29,
   "metadata": {},
   "outputs": [],
   "source": [
    "origin_validation_loss_value = his_origin_dict['val_loss']\n",
    "small_validation_loss_value = his_small_dict['val_loss']\n",
    "big_validation_loss_value = his_big_dict['val_loss']\n",
    "Epochs = range(1, len(origin_validation_loss_value) + 1)"
   ]
  },
  {
   "cell_type": "code",
   "execution_count": 30,
   "metadata": {},
   "outputs": [
    {
     "data": {
      "image/png": "[encoded data removed]",
      "text/plain": [
       "<Figure size 432x288 with 1 Axes>"
      ]
     },
     "metadata": {},
     "output_type": "display_data"
    }
   ],
   "source": [
    "#plt.plot(Epochs, origin_validation_loss_value, 'bo', label='Original Model')\n",
    "#plt.plot(Epochs, small_validation_loss_value, )\n",
    "plt.scatter(Epochs, origin_validation_loss_value, marker='+', label='Original Model')\n",
    "plt.scatter(Epochs, small_validation_loss_value, marker='o', label='Smaller Model')\n",
    "plt.xlabel('Epochs')\n",
    "plt.ylabel('Validation Loss')\n",
    "plt.legend()\n",
    "plt.show()"
   ]
  },
  {
   "cell_type": "code",
   "execution_count": 31,
   "metadata": {},
   "outputs": [
    {
     "data": {
      "image/png": "[encoded data removed]",
      "text/plain": [
       "<Figure size 432x288 with 1 Axes>"
      ]
     },
     "metadata": {},
     "output_type": "display_data"
    }
   ],
   "source": [
    "plt.scatter(Epochs, origin_validation_loss_value, marker='+', label='Original Model')\n",
    "plt.scatter(Epochs, big_validation_loss_value, marker='o', label='Bigger Model')\n",
    "plt.xlabel('Epochs')\n",
    "plt.ylabel('Validation Loss')\n",
    "plt.legend()\n",
    "plt.show()"
   ]
  },
  {
   "cell_type": "code",
   "execution_count": 32,
   "metadata": {},
   "outputs": [],
   "source": [
    "origin_loss_value = his_origin_dict['loss']\n",
    "small_loss_value = his_small_dict['loss']\n",
    "big_loss_value = his_big_dict['loss']"
   ]
  },
  {
   "cell_type": "code",
   "execution_count": 33,
   "metadata": {},
   "outputs": [
    {
     "data": {
      "image/png": "[encoded data removed]",
      "text/plain": [
       "<Figure size 432x288 with 1 Axes>"
      ]
     },
     "metadata": {},
     "output_type": "display_data"
    }
   ],
   "source": [
    "plt.scatter(Epochs, origin_loss_value, marker='+', label='Original Model')\n",
    "plt.scatter(Epochs, small_loss_value, marker='o', label='Smaller Model')\n",
    "plt.xlabel('Epochs')\n",
    "plt.ylabel('Training Loss')\n",
    "plt.legend()\n",
    "plt.show()"
   ]
  },
  {
   "cell_type": "code",
   "execution_count": 34,
   "metadata": {},
   "outputs": [
    {
     "data": {
      "image/png": "[encoded data removed]",
      "text/plain": [
       "<Figure size 432x288 with 1 Axes>"
      ]
     },
     "metadata": {},
     "output_type": "display_data"
    }
   ],
   "source": [
    "plt.scatter(Epochs, origin_loss_value, marker='+', label='Original Model')\n",
    "plt.scatter(Epochs, big_loss_value, marker='o', label='Bigger Model')\n",
    "plt.xlabel('Epochs')\n",
    "plt.ylabel('Training Loss')\n",
    "plt.legend()\n",
    "plt.show()"
   ]
  },
  {
   "cell_type": "code",
   "execution_count": 35,
   "metadata": {},
   "outputs": [],
   "source": [
    "from keras import regularizers"
   ]
  },
  {
   "cell_type": "code",
   "execution_count": 36,
   "metadata": {},
   "outputs": [],
   "source": [
    "# L2权重正则化\n",
    "def L2_model():\n",
    "    model = models.Sequential()\n",
    "    model.add(layers.Dense(16, kernel_regularizer=regularizers.l2(0.001), activation='relu', input_shape=(x_val.shape[1], )))\n",
    "    model.add(layers.Dense(16, kernel_regularizer=regularizers.l2(0.001), activation='relu'))\n",
    "    model.add(layers.Dense(1, activation='sigmoid'))\n",
    "    model.compile(optimizer='rmsprop', loss='binary_crossentropy', metrics=['acc'])\n",
    "    return model"
   ]
  },
  {
   "cell_type": "code",
   "execution_count": 37,
   "metadata": {},
   "outputs": [
    {
     "name": "stdout",
     "output_type": "stream",
     "text": [
      "Train on 15000 samples, validate on 10000 samples\n",
      "Epoch 1/20\n",
      "15000/15000 [==============================] - 4s 246us/step - loss: 0.5700 - acc: 0.7876 - val_loss: 0.4846 - val_acc: 0.8243\n",
      "Epoch 2/20\n",
      "15000/15000 [==============================] - 3s 183us/step - loss: 0.3755 - acc: 0.8954 - val_loss: 0.3678 - val_acc: 0.8756\n",
      "Epoch 3/20\n",
      "15000/15000 [==============================] - 3s 180us/step - loss: 0.2948 - acc: 0.9184 - val_loss: 0.3354 - val_acc: 0.8882\n",
      "Epoch 4/20\n",
      "15000/15000 [==============================] - 3s 180us/step - loss: 0.2553 - acc: 0.9304 - val_loss: 0.3374 - val_acc: 0.8826\n",
      "Epoch 5/20\n",
      "15000/15000 [==============================] - 3s 179us/step - loss: 0.2337 - acc: 0.9399 - val_loss: 0.3418 - val_acc: 0.8823\n",
      "Epoch 6/20\n",
      "15000/15000 [==============================] - 3s 187us/step - loss: 0.2180 - acc: 0.9466 - val_loss: 0.3330 - val_acc: 0.8848\n",
      "Epoch 7/20\n",
      "15000/15000 [==============================] - 3s 177us/step - loss: 0.2031 - acc: 0.9526 - val_loss: 0.3396 - val_acc: 0.8857\n",
      "Epoch 8/20\n",
      "15000/15000 [==============================] - 3s 178us/step - loss: 0.1958 - acc: 0.9545 - val_loss: 0.3471 - val_acc: 0.8836\n",
      "Epoch 9/20\n",
      "15000/15000 [==============================] - 3s 178us/step - loss: 0.1888 - acc: 0.9580 - val_loss: 0.3556 - val_acc: 0.8834\n",
      "Epoch 10/20\n",
      "15000/15000 [==============================] - 3s 178us/step - loss: 0.1795 - acc: 0.9599 - val_loss: 0.3682 - val_acc: 0.8762\n",
      "Epoch 11/20\n",
      "15000/15000 [==============================] - 3s 179us/step - loss: 0.1729 - acc: 0.9655 - val_loss: 0.3795 - val_acc: 0.8818\n",
      "Epoch 12/20\n",
      "15000/15000 [==============================] - 3s 178us/step - loss: 0.1684 - acc: 0.9671 - val_loss: 0.3764 - val_acc: 0.8790\n",
      "Epoch 13/20\n",
      "15000/15000 [==============================] - 3s 186us/step - loss: 0.1651 - acc: 0.9665 - val_loss: 0.3920 - val_acc: 0.8738\n",
      "Epoch 14/20\n",
      "15000/15000 [==============================] - 3s 173us/step - loss: 0.1567 - acc: 0.9716 - val_loss: 0.3909 - val_acc: 0.8773\n",
      "Epoch 15/20\n",
      "15000/15000 [==============================] - 3s 182us/step - loss: 0.1573 - acc: 0.9700 - val_loss: 0.4027 - val_acc: 0.8731\n",
      "Epoch 16/20\n",
      "15000/15000 [==============================] - 3s 189us/step - loss: 0.1526 - acc: 0.9717 - val_loss: 0.4123 - val_acc: 0.8701\n",
      "Epoch 17/20\n",
      "15000/15000 [==============================] - 3s 183us/step - loss: 0.1470 - acc: 0.9747 - val_loss: 0.4595 - val_acc: 0.8633\n",
      "Epoch 18/20\n",
      "15000/15000 [==============================] - 3s 184us/step - loss: 0.1424 - acc: 0.9763 - val_loss: 0.4490 - val_acc: 0.8698\n",
      "Epoch 19/20\n",
      "15000/15000 [==============================] - 3s 183us/step - loss: 0.1427 - acc: 0.9767 - val_loss: 0.4317 - val_acc: 0.8696\n",
      "Epoch 20/20\n",
      "15000/15000 [==============================] - 3s 179us/step - loss: 0.1360 - acc: 0.9795 - val_loss: 0.4272 - val_acc: 0.8739\n"
     ]
    }
   ],
   "source": [
    "his_L2 = L2_model().fit(partial_x_train, partial_y_train, epochs=20, batch_size=512, validation_data=(x_val, y_val))\n",
    "his_L2_dict = his_L2.history"
   ]
  },
  {
   "cell_type": "code",
   "execution_count": 39,
   "metadata": {},
   "outputs": [
    {
     "data": {
      "image/png": "[encoded data removed]",
      "text/plain": [
       "<Figure size 432x288 with 1 Axes>"
      ]
     },
     "metadata": {},
     "output_type": "display_data"
    }
   ],
   "source": [
    "L2_validation_loss_value = his_L2_dict['val_loss']\n",
    "plt.scatter(Epochs, origin_validation_loss_value, marker='+', label='Original Model')\n",
    "plt.scatter(Epochs, L2_validation_loss_value, marker='o', label='L2-regularized Model')\n",
    "plt.xlabel('Epochs')\n",
    "plt.ylabel('Training Loss')\n",
    "plt.legend()\n",
    "plt.show()"
   ]
  },
  {
   "cell_type": "code",
   "execution_count": 42,
   "metadata": {},
   "outputs": [],
   "source": [
    "# Dropout正则化\n",
    "def Dropout_model():\n",
    "    model = models.Sequential()\n",
    "    model.add(layers.Dense(16, activation='relu', input_shape=(x_val.shape[1], )))\n",
    "    model.add(layers.Dropout(0.5))\n",
    "    model.add(layers.Dense(16, activation='relu'))\n",
    "    model.add(layers.Dropout(0.5))\n",
    "    model.add(layers.Dense(1, activation='sigmoid'))\n",
    "    model.compile(optimizer='rmsprop', loss='binary_crossentropy', metrics=['acc'])\n",
    "    return model"
   ]
  },
  {
   "cell_type": "code",
   "execution_count": 43,
   "metadata": {},
   "outputs": [
    {
     "name": "stdout",
     "output_type": "stream",
     "text": [
      "Train on 15000 samples, validate on 10000 samples\n",
      "Epoch 1/20\n",
      "15000/15000 [==============================] - 4s 253us/step - loss: 0.6293 - acc: 0.6353 - val_loss: 0.4973 - val_acc: 0.8389\n",
      "Epoch 2/20\n",
      "15000/15000 [==============================] - 3s 191us/step - loss: 0.5130 - acc: 0.7634 - val_loss: 0.4157 - val_acc: 0.8689\n",
      "Epoch 3/20\n",
      "15000/15000 [==============================] - 3s 185us/step - loss: 0.4293 - acc: 0.8243 - val_loss: 0.3387 - val_acc: 0.8793\n",
      "Epoch 4/20\n",
      "15000/15000 [==============================] - 3s 183us/step - loss: 0.3661 - acc: 0.8583 - val_loss: 0.3065 - val_acc: 0.8803\n",
      "Epoch 5/20\n",
      "15000/15000 [==============================] - 3s 180us/step - loss: 0.3192 - acc: 0.8807 - val_loss: 0.2863 - val_acc: 0.8881s: 0.3221 - acc:\n",
      "Epoch 6/20\n",
      "15000/15000 [==============================] - 3s 180us/step - loss: 0.2815 - acc: 0.9000 - val_loss: 0.2781 - val_acc: 0.8881\n",
      "Epoch 7/20\n",
      "15000/15000 [==============================] - 3s 182us/step - loss: 0.2486 - acc: 0.9113 - val_loss: 0.2771 - val_acc: 0.8894\n",
      "Epoch 8/20\n",
      "15000/15000 [==============================] - 3s 186us/step - loss: 0.2255 - acc: 0.9195 - val_loss: 0.2874 - val_acc: 0.8882\n",
      "Epoch 9/20\n",
      "15000/15000 [==============================] - 3s 187us/step - loss: 0.2052 - acc: 0.9291 - val_loss: 0.2934 - val_acc: 0.8903\n",
      "Epoch 10/20\n",
      "15000/15000 [==============================] - 3s 183us/step - loss: 0.1832 - acc: 0.9380 - val_loss: 0.3118 - val_acc: 0.8879\n",
      "Epoch 11/20\n",
      "15000/15000 [==============================] - 3s 181us/step - loss: 0.1682 - acc: 0.9437 - val_loss: 0.3348 - val_acc: 0.8855\n",
      "Epoch 12/20\n",
      "15000/15000 [==============================] - 3s 181us/step - loss: 0.1479 - acc: 0.9515 - val_loss: 0.3602 - val_acc: 0.8823\n",
      "Epoch 13/20\n",
      "15000/15000 [==============================] - 3s 187us/step - loss: 0.1367 - acc: 0.9537 - val_loss: 0.3509 - val_acc: 0.8880\n",
      "Epoch 14/20\n",
      "15000/15000 [==============================] - 3s 191us/step - loss: 0.1244 - acc: 0.9555 - val_loss: 0.3828 - val_acc: 0.8880\n",
      "Epoch 15/20\n",
      "15000/15000 [==============================] - 3s 195us/step - loss: 0.1185 - acc: 0.9586 - val_loss: 0.4100 - val_acc: 0.8861\n",
      "Epoch 16/20\n",
      "15000/15000 [==============================] - 3s 205us/step - loss: 0.1115 - acc: 0.9607 - val_loss: 0.4343 - val_acc: 0.8874\n",
      "Epoch 17/20\n",
      "15000/15000 [==============================] - 3s 184us/step - loss: 0.1069 - acc: 0.9641 - val_loss: 0.4789 - val_acc: 0.8814\n",
      "Epoch 18/20\n",
      "15000/15000 [==============================] - 3s 177us/step - loss: 0.0969 - acc: 0.9636 - val_loss: 0.4700 - val_acc: 0.8850\n",
      "Epoch 19/20\n",
      "15000/15000 [==============================] - 3s 177us/step - loss: 0.0963 - acc: 0.9651 - val_loss: 0.5099 - val_acc: 0.8857\n",
      "Epoch 20/20\n",
      "15000/15000 [==============================] - 3s 176us/step - loss: 0.0920 - acc: 0.9682 - val_loss: 0.5305 - val_acc: 0.8840\n"
     ]
    }
   ],
   "source": [
    "his_dropout = Dropout_model().fit(partial_x_train, partial_y_train, epochs=20, batch_size=512, validation_data=(x_val, y_val))\n",
    "his_dropout_dict = his_dropout.history"
   ]
  },
  {
   "cell_type": "code",
   "execution_count": 45,
   "metadata": {},
   "outputs": [
    {
     "data": {
      "image/png": "[encoded data removed]",
      "text/plain": [
       "<Figure size 432x288 with 1 Axes>"
      ]
     },
     "metadata": {},
     "output_type": "display_data"
    }
   ],
   "source": [
    "dropout_validation_loss_value = his_dropout_dict['val_loss']\n",
    "plt.scatter(Epochs, origin_validation_loss_value, marker='+', label='Original Model')\n",
    "plt.scatter(Epochs, dropout_validation_loss_value, marker='o', label='Dropout-regularized Model')\n",
    "plt.xlabel('Epochs')\n",
    "plt.ylabel('Validation Loss')\n",
    "plt.legend()\n",
    "plt.show()"
   ]
  },
  {
   "cell_type": "code",
   "execution_count": 46,
   "metadata": {},
   "outputs": [],
   "source": [
    "# Dropout + L2正则化\n",
    "def Dropout_L2_model():\n",
    "    model = models.Sequential()\n",
    "    model.add(layers.Dense(16, kernel_regularizer=regularizers.l2(0.001), activation='relu', input_shape=(x_val.shape[1], )))\n",
    "    model.add(layers.Dropout(0.5))\n",
    "    model.add(layers.Dense(16, kernel_regularizer=regularizers.l2(0.001), activation='relu'))\n",
    "    model.add(layers.Dropout(0.5))\n",
    "    model.add(layers.Dense(1, activation='sigmoid'))\n",
    "    model.compile(optimizer='rmsprop', loss='binary_crossentropy', metrics=['acc'])\n",
    "    return model"
   ]
  },
  {
   "cell_type": "code",
   "execution_count": 47,
   "metadata": {},
   "outputs": [
    {
     "name": "stdout",
     "output_type": "stream",
     "text": [
      "Train on 15000 samples, validate on 10000 samples\n",
      "Epoch 1/20\n",
      "15000/15000 [==============================] - 4s 269us/step - loss: 0.6713 - acc: 0.6279 - val_loss: 0.5633 - val_acc: 0.8419\n",
      "Epoch 2/20\n",
      "15000/15000 [==============================] - 3s 177us/step - loss: 0.5581 - acc: 0.7455 - val_loss: 0.4636 - val_acc: 0.8599\n",
      "Epoch 3/20\n",
      "15000/15000 [==============================] - 3s 184us/step - loss: 0.4769 - acc: 0.8097 - val_loss: 0.3932 - val_acc: 0.8773\n",
      "Epoch 4/20\n",
      "15000/15000 [==============================] - 3s 179us/step - loss: 0.4163 - acc: 0.8527 - val_loss: 0.3493 - val_acc: 0.8834\n",
      "Epoch 5/20\n",
      "15000/15000 [==============================] - 3s 180us/step - loss: 0.3694 - acc: 0.8815 - val_loss: 0.3324 - val_acc: 0.8857\n",
      "Epoch 6/20\n",
      "15000/15000 [==============================] - 3s 173us/step - loss: 0.3381 - acc: 0.8983 - val_loss: 0.3598 - val_acc: 0.8742\n",
      "Epoch 7/20\n",
      "15000/15000 [==============================] - 3s 183us/step - loss: 0.3128 - acc: 0.9086 - val_loss: 0.3331 - val_acc: 0.8874\n",
      "Epoch 8/20\n",
      "15000/15000 [==============================] - 3s 178us/step - loss: 0.2885 - acc: 0.9191 - val_loss: 0.3353 - val_acc: 0.8858\n",
      "Epoch 9/20\n",
      "15000/15000 [==============================] - 3s 179us/step - loss: 0.2767 - acc: 0.9230 - val_loss: 0.3502 - val_acc: 0.8827\n",
      "Epoch 10/20\n",
      "15000/15000 [==============================] - 3s 183us/step - loss: 0.2623 - acc: 0.9298 - val_loss: 0.3644 - val_acc: 0.8819\n",
      "Epoch 11/20\n",
      "15000/15000 [==============================] - 3s 177us/step - loss: 0.2521 - acc: 0.9328 - val_loss: 0.3492 - val_acc: 0.8840\n",
      "Epoch 12/20\n",
      "15000/15000 [==============================] - 3s 183us/step - loss: 0.2426 - acc: 0.9350 - val_loss: 0.3584 - val_acc: 0.8835\n",
      "Epoch 13/20\n",
      "15000/15000 [==============================] - 3s 184us/step - loss: 0.2311 - acc: 0.9421 - val_loss: 0.3694 - val_acc: 0.8816\n",
      "Epoch 14/20\n",
      "15000/15000 [==============================] - 3s 198us/step - loss: 0.2263 - acc: 0.9437 - val_loss: 0.3838 - val_acc: 0.8755\n",
      "Epoch 15/20\n",
      "15000/15000 [==============================] - 3s 185us/step - loss: 0.2195 - acc: 0.9447 - val_loss: 0.3860 - val_acc: 0.8800\n",
      "Epoch 16/20\n",
      "15000/15000 [==============================] - 3s 188us/step - loss: 0.2107 - acc: 0.9477 - val_loss: 0.4110 - val_acc: 0.8798\n",
      "Epoch 17/20\n",
      "15000/15000 [==============================] - 3s 181us/step - loss: 0.2111 - acc: 0.9482 - val_loss: 0.4363 - val_acc: 0.8779\n",
      "Epoch 18/20\n",
      "15000/15000 [==============================] - 3s 181us/step - loss: 0.2072 - acc: 0.9468 - val_loss: 0.4246 - val_acc: 0.8785\n",
      "Epoch 19/20\n",
      "15000/15000 [==============================] - 3s 180us/step - loss: 0.2000 - acc: 0.9501 - val_loss: 0.4315 - val_acc: 0.8789\n",
      "Epoch 20/20\n",
      "15000/15000 [==============================] - 3s 188us/step - loss: 0.1962 - acc: 0.9544 - val_loss: 0.4511 - val_acc: 0.8777\n"
     ]
    }
   ],
   "source": [
    "his_dropout_l2 = Dropout_L2_model().fit(partial_x_train, partial_y_train, epochs=20, batch_size=512, validation_data=(x_val, y_val))\n",
    "his_dropout_l2_dict = his_dropout_l2.history"
   ]
  },
  {
   "cell_type": "code",
   "execution_count": 48,
   "metadata": {},
   "outputs": [
    {
     "data": {
      "image/png": "[encoded data removed]",
      "text/plain": [
       "<Figure size 432x288 with 1 Axes>"
      ]
     },
     "metadata": {},
     "output_type": "display_data"
    }
   ],
   "source": [
    "dropout_l2_validation_loss_value = his_dropout_l2_dict['val_loss']\n",
    "plt.scatter(Epochs, origin_validation_loss_value, marker='+', label='Original Model')\n",
    "plt.scatter(Epochs, dropout_l2_validation_loss_value, marker='o', label='Dropout-L2-regularized Model')\n",
    "plt.xlabel('Epochs')\n",
    "plt.ylabel('Validation Loss')\n",
    "plt.legend()\n",
    "plt.show()"
   ]
  },
  {
   "cell_type": "code",
   "execution_count": 49,
   "metadata": {},
   "outputs": [
    {
     "data": {
      "image/png": "[encoded data removed]",
      "text/plain": [
       "<Figure size 432x288 with 1 Axes>"
      ]
     },
     "metadata": {},
     "output_type": "display_data"
    }
   ],
   "source": [
    "dropout_l2_loss_value = his_dropout_l2_dict['loss']\n",
    "plt.scatter(Epochs, origin_loss_value, marker='+', label='Original Model')\n",
    "plt.scatter(Epochs, dropout_l2_loss_value, marker='o', label='Dropout-L2-regularized Model')\n",
    "plt.xlabel('Epochs')\n",
    "plt.ylabel('Training Loss')\n",
    "plt.legend()\n",
    "plt.show()"
   ]
  },
  {
   "cell_type": "code",
   "execution_count": null,
   "metadata": {},
   "outputs": [],
   "source": []
  }
 ],
 "metadata": {
  "kernelspec": {
   "display_name": "Python 3",
   "language": "python",
   "name": "python3"
  },
  "language_info": {
   "codemirror_mode": {
    "name": "ipython",
    "version": 3
   },
   "file_extension": ".py",
   "mimetype": "text/x-python",
   "name": "python",
   "nbconvert_exporter": "python",
   "pygments_lexer": "ipython3",
   "version": "3.6.5"
  }
 },
 "nbformat": 4,
 "nbformat_minor": 2
}
