{
 "cells": [
  {
   "cell_type": "code",
   "execution_count": 1,
   "metadata": {},
   "outputs": [
    {
     "name": "stderr",
     "output_type": "stream",
     "text": [
      "C:\\ProgramData\\Anaconda3\\lib\\site-packages\\h5py\\__init__.py:36: FutureWarning: Conversion of the second argument of issubdtype from `float` to `np.floating` is deprecated. In future, it will be treated as `np.float64 == np.dtype(float).type`.\n",
      "  from ._conv import register_converters as _register_converters\n",
      "Using TensorFlow backend.\n"
     ]
    }
   ],
   "source": [
    "#from keras.applications import InceptionV3\n",
    "from keras.applications import VGG16"
   ]
  },
  {
   "cell_type": "code",
   "execution_count": 2,
   "metadata": {},
   "outputs": [],
   "source": [
    "#conv_base = InceptionV3(weights='imagenet', include_top=False, input_shape=(299, 299, 3))\n",
    "conv_base = VGG16(weights='imagenet', include_top=False, input_shape=(299, 299, 3))"
   ]
  },
  {
   "cell_type": "code",
   "execution_count": 3,
   "metadata": {},
   "outputs": [
    {
     "name": "stdout",
     "output_type": "stream",
     "text": [
      "_________________________________________________________________\n",
      "Layer (type)                 Output Shape              Param #   \n",
      "=================================================================\n",
      "input_1 (InputLayer)         (None, 299, 299, 3)       0         \n",
      "_________________________________________________________________\n",
      "block1_conv1 (Conv2D)        (None, 299, 299, 64)      1792      \n",
      "_________________________________________________________________\n",
      "block1_conv2 (Conv2D)        (None, 299, 299, 64)      36928     \n",
      "_________________________________________________________________\n",
      "block1_pool (MaxPooling2D)   (None, 149, 149, 64)      0         \n",
      "_________________________________________________________________\n",
      "block2_conv1 (Conv2D)        (None, 149, 149, 128)     73856     \n",
      "_________________________________________________________________\n",
      "block2_conv2 (Conv2D)        (None, 149, 149, 128)     147584    \n",
      "_________________________________________________________________\n",
      "block2_pool (MaxPooling2D)   (None, 74, 74, 128)       0         \n",
      "_________________________________________________________________\n",
      "block3_conv1 (Conv2D)        (None, 74, 74, 256)       295168    \n",
      "_________________________________________________________________\n",
      "block3_conv2 (Conv2D)        (None, 74, 74, 256)       590080    \n",
      "_________________________________________________________________\n",
      "block3_conv3 (Conv2D)        (None, 74, 74, 256)       590080    \n",
      "_________________________________________________________________\n",
      "block3_pool (MaxPooling2D)   (None, 37, 37, 256)       0         \n",
      "_________________________________________________________________\n",
      "block4_conv1 (Conv2D)        (None, 37, 37, 512)       1180160   \n",
      "_________________________________________________________________\n",
      "block4_conv2 (Conv2D)        (None, 37, 37, 512)       2359808   \n",
      "_________________________________________________________________\n",
      "block4_conv3 (Conv2D)        (None, 37, 37, 512)       2359808   \n",
      "_________________________________________________________________\n",
      "block4_pool (MaxPooling2D)   (None, 18, 18, 512)       0         \n",
      "_________________________________________________________________\n",
      "block5_conv1 (Conv2D)        (None, 18, 18, 512)       2359808   \n",
      "_________________________________________________________________\n",
      "block5_conv2 (Conv2D)        (None, 18, 18, 512)       2359808   \n",
      "_________________________________________________________________\n",
      "block5_conv3 (Conv2D)        (None, 18, 18, 512)       2359808   \n",
      "_________________________________________________________________\n",
      "block5_pool (MaxPooling2D)   (None, 9, 9, 512)         0         \n",
      "=================================================================\n",
      "Total params: 14,714,688\n",
      "Trainable params: 14,714,688\n",
      "Non-trainable params: 0\n",
      "_________________________________________________________________\n"
     ]
    }
   ],
   "source": [
    "conv_base.summary()"
   ]
  },
  {
   "cell_type": "code",
   "execution_count": 4,
   "metadata": {},
   "outputs": [],
   "source": [
    "from keras import models\n",
    "from keras import layers\n",
    "from keras import regularizers"
   ]
  },
  {
   "cell_type": "code",
   "execution_count": 5,
   "metadata": {},
   "outputs": [
    {
     "name": "stdout",
     "output_type": "stream",
     "text": [
      "_________________________________________________________________\n",
      "Layer (type)                 Output Shape              Param #   \n",
      "=================================================================\n",
      "vgg16 (Model)                (None, 9, 9, 512)         14714688  \n",
      "_________________________________________________________________\n",
      "global_average_pooling2d_1 ( (None, 512)               0         \n",
      "_________________________________________________________________\n",
      "batch_normalization_1 (Batch (None, 512)               2048      \n",
      "_________________________________________________________________\n",
      "dense_1 (Dense)              (None, 256)               131328    \n",
      "_________________________________________________________________\n",
      "dropout_1 (Dropout)          (None, 256)               0         \n",
      "_________________________________________________________________\n",
      "dense_2 (Dense)              (None, 5)                 1285      \n",
      "=================================================================\n",
      "Total params: 14,849,349\n",
      "Trainable params: 14,848,325\n",
      "Non-trainable params: 1,024\n",
      "_________________________________________________________________\n"
     ]
    }
   ],
   "source": [
    "model = models.Sequential()\n",
    "model.add(conv_base)\n",
    "model.add(layers.GlobalAveragePooling2D())\n",
    "model.add(layers.normalization.BatchNormalization())\n",
    "model.add(layers.Dense(256, activation='relu'))\n",
    "model.add(layers.Dropout(0.5))\n",
    "# model.add(layers.Dense(64, activation='relu'))\n",
    "model.add(layers.Dense(5, activation='softmax'))\n",
    "model.summary()"
   ]
  },
  {
   "cell_type": "code",
   "execution_count": 6,
   "metadata": {},
   "outputs": [
    {
     "name": "stdout",
     "output_type": "stream",
     "text": [
      "32\n",
      "6\n"
     ]
    }
   ],
   "source": [
    "print(len(model.trainable_weights))\n",
    "conv_base.trainable = False\n",
    "print(len(model.trainable_weights))"
   ]
  },
  {
   "cell_type": "code",
   "execution_count": 7,
   "metadata": {},
   "outputs": [
    {
     "name": "stdout",
     "output_type": "stream",
     "text": [
      "_________________________________________________________________\n",
      "Layer (type)                 Output Shape              Param #   \n",
      "=================================================================\n",
      "vgg16 (Model)                (None, 9, 9, 512)         14714688  \n",
      "_________________________________________________________________\n",
      "global_average_pooling2d_1 ( (None, 512)               0         \n",
      "_________________________________________________________________\n",
      "batch_normalization_1 (Batch (None, 512)               2048      \n",
      "_________________________________________________________________\n",
      "dense_1 (Dense)              (None, 256)               131328    \n",
      "_________________________________________________________________\n",
      "dropout_1 (Dropout)          (None, 256)               0         \n",
      "_________________________________________________________________\n",
      "dense_2 (Dense)              (None, 5)                 1285      \n",
      "=================================================================\n",
      "Total params: 14,849,349\n",
      "Trainable params: 133,637\n",
      "Non-trainable params: 14,715,712\n",
      "_________________________________________________________________\n"
     ]
    }
   ],
   "source": [
    "model.summary()"
   ]
  },
  {
   "cell_type": "code",
   "execution_count": 8,
   "metadata": {},
   "outputs": [],
   "source": [
    "from keras.preprocessing.image import ImageDataGenerator\n",
    "from keras import optimizers"
   ]
  },
  {
   "cell_type": "code",
   "execution_count": 9,
   "metadata": {},
   "outputs": [],
   "source": [
    "train_datagen = ImageDataGenerator(rescale=1./255, rotation_range=40, width_shift_range=0.2, height_shift_range=0.2, \n",
    "                                   shear_range=0.2, zoom_range=0.2, horizontal_flip=True, fill_mode='nearest')\n",
    "test_datagen = ImageDataGenerator(rescale=1./255)"
   ]
  },
  {
   "cell_type": "code",
   "execution_count": 10,
   "metadata": {},
   "outputs": [],
   "source": [
    "train_dir = r'E:\\6--datasets\\flower\\train'\n",
    "test_dir = r'E:\\6--datasets\\flower\\test'\n",
    "validation_dir = r'E:\\6--datasets\\flower\\validation'"
   ]
  },
  {
   "cell_type": "code",
   "execution_count": 11,
   "metadata": {},
   "outputs": [
    {
     "name": "stdout",
     "output_type": "stream",
     "text": [
      "Found 2942 images belonging to 5 classes.\n",
      "Found 364 images belonging to 5 classes.\n",
      "Found 364 images belonging to 5 classes.\n"
     ]
    }
   ],
   "source": [
    "train_generator = train_datagen.flow_from_directory(train_dir, target_size=(299, 299), batch_size=32, class_mode='categorical')\n",
    "validation_generator = test_datagen.flow_from_directory(validation_dir, target_size=(299, 299), batch_size=32, class_mode='categorical')\n",
    "test_generator = test_datagen.flow_from_directory(test_dir, target_size=(299, 299), batch_size=32, class_mode='categorical')"
   ]
  },
  {
   "cell_type": "code",
   "execution_count": 12,
   "metadata": {},
   "outputs": [],
   "source": [
    "model.compile(loss='categorical_crossentropy', optimizer=optimizers.Adam(1e-4), metrics=['acc'])"
   ]
  },
  {
   "cell_type": "code",
   "execution_count": 13,
   "metadata": {},
   "outputs": [
    {
     "name": "stdout",
     "output_type": "stream",
     "text": [
      "2019-04-25 11:28:03\n"
     ]
    }
   ],
   "source": [
    "import time\n",
    "def print_current():\n",
    "    print (time.strftime(\"%Y-%m-%d %H:%M:%S\", time.localtime()))\n",
    "print_current()"
   ]
  },
  {
   "cell_type": "code",
   "execution_count": 14,
   "metadata": {},
   "outputs": [
    {
     "name": "stdout",
     "output_type": "stream",
     "text": [
      "2019-04-25 11:28:03\n",
      "Epoch 1/30\n",
      "92/92 [==============================] - 63s 689ms/step - loss: 1.5366 - acc: 0.3981 - val_loss: 1.0993 - val_acc: 0.5989\n",
      "Epoch 2/30\n",
      "92/92 [==============================] - 53s 581ms/step - loss: 1.1209 - acc: 0.5623 - val_loss: 0.8884 - val_acc: 0.6401\n",
      "Epoch 3/30\n",
      "92/92 [==============================] - 56s 606ms/step - loss: 0.9285 - acc: 0.6410 - val_loss: 0.7823 - val_acc: 0.6978\n",
      "Epoch 4/30\n",
      "92/92 [==============================] - 55s 603ms/step - loss: 0.8749 - acc: 0.6614 - val_loss: 0.7246 - val_acc: 0.7280\n",
      "Epoch 5/30\n",
      "92/92 [==============================] - 55s 593ms/step - loss: 0.7818 - acc: 0.6978 - val_loss: 0.6782 - val_acc: 0.7665\n",
      "Epoch 6/30\n",
      "92/92 [==============================] - 55s 593ms/step - loss: 0.7511 - acc: 0.7240 - val_loss: 0.6458 - val_acc: 0.7692\n",
      "Epoch 7/30\n",
      "92/92 [==============================] - 55s 594ms/step - loss: 0.7165 - acc: 0.7293 - val_loss: 0.6259 - val_acc: 0.7802\n",
      "Epoch 8/30\n",
      "92/92 [==============================] - 55s 595ms/step - loss: 0.6844 - acc: 0.7457 - val_loss: 0.5994 - val_acc: 0.7967\n",
      "Epoch 9/30\n",
      "92/92 [==============================] - 55s 594ms/step - loss: 0.6612 - acc: 0.7668 - val_loss: 0.5922 - val_acc: 0.7995\n",
      "Epoch 10/30\n",
      "92/92 [==============================] - 54s 590ms/step - loss: 0.6391 - acc: 0.7560 - val_loss: 0.5843 - val_acc: 0.7995\n",
      "Epoch 11/30\n",
      "92/92 [==============================] - 55s 593ms/step - loss: 0.6321 - acc: 0.7736 - val_loss: 0.5697 - val_acc: 0.8077\n",
      "Epoch 12/30\n",
      "92/92 [==============================] - 54s 592ms/step - loss: 0.5847 - acc: 0.7912 - val_loss: 0.5578 - val_acc: 0.8132\n",
      "Epoch 13/30\n",
      "92/92 [==============================] - 55s 595ms/step - loss: 0.5859 - acc: 0.7888 - val_loss: 0.5473 - val_acc: 0.8132\n",
      "Epoch 14/30\n",
      "92/92 [==============================] - 55s 592ms/step - loss: 0.5655 - acc: 0.7923 - val_loss: 0.5356 - val_acc: 0.8214\n",
      "Epoch 15/30\n",
      "92/92 [==============================] - 55s 595ms/step - loss: 0.5632 - acc: 0.7875 - val_loss: 0.5342 - val_acc: 0.8187\n",
      "Epoch 16/30\n",
      "92/92 [==============================] - 55s 594ms/step - loss: 0.5485 - acc: 0.8046 - val_loss: 0.5313 - val_acc: 0.8214\n",
      "Epoch 17/30\n",
      "92/92 [==============================] - 54s 592ms/step - loss: 0.5363 - acc: 0.8042 - val_loss: 0.5255 - val_acc: 0.8324\n",
      "Epoch 18/30\n",
      "92/92 [==============================] - 55s 594ms/step - loss: 0.5336 - acc: 0.7995 - val_loss: 0.5251 - val_acc: 0.8269\n",
      "Epoch 19/30\n",
      "92/92 [==============================] - 55s 594ms/step - loss: 0.4928 - acc: 0.8195 - val_loss: 0.5222 - val_acc: 0.8269\n",
      "Epoch 20/30\n",
      "92/92 [==============================] - 54s 592ms/step - loss: 0.5040 - acc: 0.8179 - val_loss: 0.5132 - val_acc: 0.8269\n",
      "Epoch 21/30\n",
      "92/92 [==============================] - 55s 595ms/step - loss: 0.4895 - acc: 0.8137 - val_loss: 0.5110 - val_acc: 0.8269\n",
      "Epoch 22/30\n",
      "92/92 [==============================] - 55s 593ms/step - loss: 0.4971 - acc: 0.8178 - val_loss: 0.5042 - val_acc: 0.8297\n",
      "Epoch 23/30\n",
      "92/92 [==============================] - 55s 594ms/step - loss: 0.4786 - acc: 0.8219 - val_loss: 0.5009 - val_acc: 0.8297\n",
      "Epoch 24/30\n",
      "92/92 [==============================] - 55s 593ms/step - loss: 0.4623 - acc: 0.8280 - val_loss: 0.5058 - val_acc: 0.8352\n",
      "Epoch 25/30\n",
      "92/92 [==============================] - 55s 595ms/step - loss: 0.4546 - acc: 0.8357 - val_loss: 0.5023 - val_acc: 0.8379\n",
      "Epoch 26/30\n",
      "92/92 [==============================] - 55s 595ms/step - loss: 0.4614 - acc: 0.8260 - val_loss: 0.5086 - val_acc: 0.8297\n",
      "Epoch 27/30\n",
      "92/92 [==============================] - 55s 596ms/step - loss: 0.4567 - acc: 0.8284 - val_loss: 0.5047 - val_acc: 0.8324\n",
      "Epoch 28/30\n",
      "92/92 [==============================] - 55s 596ms/step - loss: 0.4414 - acc: 0.8406 - val_loss: 0.5044 - val_acc: 0.8352\n",
      "Epoch 29/30\n",
      "92/92 [==============================] - 55s 597ms/step - loss: 0.4200 - acc: 0.8385 - val_loss: 0.4998 - val_acc: 0.8379\n",
      "Epoch 30/30\n",
      "92/92 [==============================] - 55s 594ms/step - loss: 0.4339 - acc: 0.8413 - val_loss: 0.4950 - val_acc: 0.8489\n",
      "2019-04-25 11:55:32\n"
     ]
    }
   ],
   "source": [
    "print_current()\n",
    "model.fit_generator(train_generator, steps_per_epoch=92, epochs=30, validation_data=validation_generator, validation_steps=12)\n",
    "print_current()"
   ]
  },
  {
   "cell_type": "code",
   "execution_count": 15,
   "metadata": {},
   "outputs": [
    {
     "name": "stdout",
     "output_type": "stream",
     "text": [
      "0.49616377301268527 0.8461538461538461\n"
     ]
    }
   ],
   "source": [
    "test_loss, test_acc = model.evaluate_generator(test_generator, steps=12)\n",
    "print(test_loss, test_acc)"
   ]
  },
  {
   "cell_type": "code",
   "execution_count": null,
   "metadata": {},
   "outputs": [
    {
     "name": "stdout",
     "output_type": "stream",
     "text": [
      "2019-04-25 12:04:31\n",
      "Epoch 1/100\n",
      "92/92 [==============================] - 59s 640ms/step - loss: 0.4278 - acc: 0.8375 - val_loss: 0.4678 - val_acc: 0.8571\n",
      "Epoch 2/100\n",
      "92/92 [==============================] - 55s 594ms/step - loss: 0.4285 - acc: 0.8447 - val_loss: 0.4826 - val_acc: 0.8462\n",
      "Epoch 3/100\n",
      "92/92 [==============================] - 55s 595ms/step - loss: 0.4228 - acc: 0.8453 - val_loss: 0.5191 - val_acc: 0.8352\n",
      "Epoch 4/100\n",
      "92/92 [==============================] - 57s 616ms/step - loss: 0.4456 - acc: 0.8348 - val_loss: 0.4797 - val_acc: 0.8379\n",
      "Epoch 5/100\n",
      "92/92 [==============================] - 55s 595ms/step - loss: 0.4100 - acc: 0.8494 - val_loss: 0.4743 - val_acc: 0.8489\n",
      "Epoch 6/100\n",
      "92/92 [==============================] - 55s 596ms/step - loss: 0.4021 - acc: 0.8556 - val_loss: 0.4715 - val_acc: 0.8462\n",
      "Epoch 7/100\n",
      "92/92 [==============================] - 56s 608ms/step - loss: 0.3981 - acc: 0.8552 - val_loss: 0.4689 - val_acc: 0.8434\n",
      "Epoch 8/100\n",
      "92/92 [==============================] - 55s 594ms/step - loss: 0.3950 - acc: 0.8596 - val_loss: 0.4805 - val_acc: 0.8379\n",
      "Epoch 9/100\n",
      "92/92 [==============================] - 54s 591ms/step - loss: 0.4010 - acc: 0.8522 - val_loss: 0.4703 - val_acc: 0.8544\n",
      "Epoch 10/100\n",
      "92/92 [==============================] - 55s 593ms/step - loss: 0.3920 - acc: 0.8566 - val_loss: 0.4834 - val_acc: 0.8434\n",
      "Epoch 11/100\n",
      "92/92 [==============================] - 54s 591ms/step - loss: 0.3874 - acc: 0.8620 - val_loss: 0.4532 - val_acc: 0.8516\n",
      "Epoch 12/100\n",
      "92/92 [==============================] - 55s 594ms/step - loss: 0.4120 - acc: 0.8511 - val_loss: 0.4602 - val_acc: 0.8489\n",
      "Epoch 13/100\n",
      "92/92 [==============================] - 55s 599ms/step - loss: 0.4010 - acc: 0.8511 - val_loss: 0.5187 - val_acc: 0.8407\n",
      "Epoch 14/100\n",
      "92/92 [==============================] - 54s 592ms/step - loss: 0.3713 - acc: 0.8634 - val_loss: 0.4597 - val_acc: 0.8571\n",
      "Epoch 15/100\n",
      "92/92 [==============================] - 54s 590ms/step - loss: 0.3941 - acc: 0.8545 - val_loss: 0.4682 - val_acc: 0.8462\n",
      "Epoch 16/100\n",
      "92/92 [==============================] - 55s 598ms/step - loss: 0.3805 - acc: 0.8593 - val_loss: 0.4680 - val_acc: 0.8516\n",
      "Epoch 17/100\n",
      "92/92 [==============================] - 56s 607ms/step - loss: 0.3787 - acc: 0.8664 - val_loss: 0.4558 - val_acc: 0.8516\n",
      "Epoch 18/100\n",
      "92/92 [==============================] - 55s 601ms/step - loss: 0.3721 - acc: 0.8600 - val_loss: 0.4486 - val_acc: 0.8462\n",
      "Epoch 19/100\n",
      "92/92 [==============================] - 56s 604ms/step - loss: 0.3443 - acc: 0.8728 - val_loss: 0.5095 - val_acc: 0.8489\n",
      "Epoch 20/100\n",
      "92/92 [==============================] - 56s 606ms/step - loss: 0.3807 - acc: 0.8599 - val_loss: 0.4766 - val_acc: 0.8489\n",
      "Epoch 21/100\n",
      "92/92 [==============================] - 56s 606ms/step - loss: 0.3468 - acc: 0.8749 - val_loss: 0.4442 - val_acc: 0.8571\n",
      "Epoch 22/100\n",
      "92/92 [==============================] - 56s 608ms/step - loss: 0.3400 - acc: 0.8776 - val_loss: 0.4962 - val_acc: 0.8407\n",
      "Epoch 23/100\n",
      "92/92 [==============================] - 55s 599ms/step - loss: 0.3566 - acc: 0.8711 - val_loss: 0.4784 - val_acc: 0.8516\n",
      "Epoch 24/100\n",
      "92/92 [==============================] - 55s 600ms/step - loss: 0.3538 - acc: 0.8681 - val_loss: 0.4646 - val_acc: 0.8599\n",
      "Epoch 25/100\n",
      "92/92 [==============================] - 56s 604ms/step - loss: 0.3483 - acc: 0.8722 - val_loss: 0.4845 - val_acc: 0.8379\n",
      "Epoch 26/100\n",
      "92/92 [==============================] - 57s 622ms/step - loss: 0.3513 - acc: 0.8743 - val_loss: 0.4749 - val_acc: 0.8516\n",
      "Epoch 27/100\n",
      "92/92 [==============================] - 56s 609ms/step - loss: 0.3567 - acc: 0.8702 - val_loss: 0.4754 - val_acc: 0.8571\n",
      "Epoch 28/100\n",
      "92/92 [==============================] - 56s 605ms/step - loss: 0.3354 - acc: 0.8827 - val_loss: 0.4735 - val_acc: 0.8599\n",
      "Epoch 29/100\n",
      "92/92 [==============================] - 56s 609ms/step - loss: 0.3435 - acc: 0.8736 - val_loss: 0.4980 - val_acc: 0.8489\n",
      "Epoch 30/100\n",
      "92/92 [==============================] - 56s 609ms/step - loss: 0.3316 - acc: 0.8845 - val_loss: 0.4509 - val_acc: 0.8544\n",
      "Epoch 31/100\n",
      "92/92 [==============================] - 56s 608ms/step - loss: 0.3178 - acc: 0.8851 - val_loss: 0.4833 - val_acc: 0.8544\n",
      "Epoch 32/100\n",
      "92/92 [==============================] - 56s 603ms/step - loss: 0.3390 - acc: 0.8729 - val_loss: 0.4644 - val_acc: 0.8516\n",
      "Epoch 33/100\n",
      "92/92 [==============================] - 56s 607ms/step - loss: 0.3462 - acc: 0.8749 - val_loss: 0.4772 - val_acc: 0.8516\n",
      "Epoch 34/100\n",
      "92/92 [==============================] - 55s 599ms/step - loss: 0.3240 - acc: 0.8835 - val_loss: 0.4692 - val_acc: 0.8571\n",
      "Epoch 35/100\n",
      "92/92 [==============================] - 55s 600ms/step - loss: 0.3215 - acc: 0.8746 - val_loss: 0.4821 - val_acc: 0.8544\n",
      "Epoch 36/100\n",
      "92/92 [==============================] - 56s 604ms/step - loss: 0.3131 - acc: 0.8789 - val_loss: 0.4747 - val_acc: 0.8571\n",
      "Epoch 37/100\n",
      "92/92 [==============================] - 56s 606ms/step - loss: 0.3044 - acc: 0.8974 - val_loss: 0.4534 - val_acc: 0.8654\n",
      "Epoch 38/100\n",
      "92/92 [==============================] - 56s 604ms/step - loss: 0.3080 - acc: 0.8888 - val_loss: 0.4673 - val_acc: 0.8626\n",
      "Epoch 39/100\n",
      "92/92 [==============================] - 56s 605ms/step - loss: 0.3244 - acc: 0.8800 - val_loss: 0.4868 - val_acc: 0.8571\n",
      "Epoch 40/100\n",
      "92/92 [==============================] - 55s 602ms/step - loss: 0.3055 - acc: 0.8912 - val_loss: 0.4548 - val_acc: 0.8571\n",
      "Epoch 41/100\n",
      "92/92 [==============================] - 56s 605ms/step - loss: 0.3183 - acc: 0.8842 - val_loss: 0.4911 - val_acc: 0.8462\n",
      "Epoch 42/100\n",
      "92/92 [==============================] - 56s 606ms/step - loss: 0.3043 - acc: 0.8857 - val_loss: 0.4643 - val_acc: 0.8544\n",
      "Epoch 43/100\n",
      "92/92 [==============================] - 56s 604ms/step - loss: 0.3106 - acc: 0.8868 - val_loss: 0.4699 - val_acc: 0.8544\n",
      "Epoch 44/100\n",
      "92/92 [==============================] - 56s 606ms/step - loss: 0.3018 - acc: 0.8889 - val_loss: 0.4835 - val_acc: 0.8571\n",
      "Epoch 45/100\n",
      "92/92 [==============================] - 56s 607ms/step - loss: 0.3051 - acc: 0.8885 - val_loss: 0.4556 - val_acc: 0.8626\n",
      "Epoch 46/100\n",
      "92/92 [==============================] - 56s 605ms/step - loss: 0.2811 - acc: 0.9048 - val_loss: 0.4100 - val_acc: 0.8571\n",
      "Epoch 47/100\n",
      "92/92 [==============================] - 56s 604ms/step - loss: 0.2881 - acc: 0.8957 - val_loss: 0.5425 - val_acc: 0.8462\n",
      "Epoch 48/100\n",
      "92/92 [==============================] - 55s 603ms/step - loss: 0.2942 - acc: 0.8892 - val_loss: 0.4541 - val_acc: 0.8544\n",
      "Epoch 49/100\n",
      "92/92 [==============================] - 56s 606ms/step - loss: 0.3054 - acc: 0.8854 - val_loss: 0.4619 - val_acc: 0.8462\n",
      "Epoch 50/100\n",
      "92/92 [==============================] - 56s 607ms/step - loss: 0.3075 - acc: 0.8895 - val_loss: 0.4549 - val_acc: 0.8599\n",
      "Epoch 51/100\n",
      "92/92 [==============================] - 56s 603ms/step - loss: 0.2897 - acc: 0.8946 - val_loss: 0.4594 - val_acc: 0.8571\n",
      "Epoch 52/100\n",
      "92/92 [==============================] - 56s 606ms/step - loss: 0.2949 - acc: 0.8919 - val_loss: 0.4545 - val_acc: 0.8626\n",
      "Epoch 53/100\n",
      "92/92 [==============================] - 56s 610ms/step - loss: 0.2713 - acc: 0.9028 - val_loss: 0.4718 - val_acc: 0.8516\n",
      "Epoch 54/100\n",
      "92/92 [==============================] - 56s 607ms/step - loss: 0.2826 - acc: 0.8971 - val_loss: 0.4652 - val_acc: 0.8462\n",
      "Epoch 55/100\n",
      "92/92 [==============================] - 56s 605ms/step - loss: 0.2824 - acc: 0.8960 - val_loss: 0.4678 - val_acc: 0.8544\n",
      "Epoch 56/100\n",
      "92/92 [==============================] - 56s 604ms/step - loss: 0.2955 - acc: 0.8932 - val_loss: 0.4448 - val_acc: 0.8571\n",
      "Epoch 57/100\n",
      "92/92 [==============================] - 56s 606ms/step - loss: 0.2890 - acc: 0.8971 - val_loss: 0.4854 - val_acc: 0.8599\n",
      "Epoch 58/100\n",
      "92/92 [==============================] - 56s 612ms/step - loss: 0.2815 - acc: 0.8930 - val_loss: 0.4679 - val_acc: 0.8626\n",
      "Epoch 59/100\n",
      "92/92 [==============================] - 56s 610ms/step - loss: 0.2845 - acc: 0.8891 - val_loss: 0.4463 - val_acc: 0.8709\n",
      "Epoch 60/100\n",
      "92/92 [==============================] - 56s 608ms/step - loss: 0.2738 - acc: 0.8998 - val_loss: 0.4887 - val_acc: 0.8516\n",
      "Epoch 61/100\n"
     ]
    },
    {
     "name": "stdout",
     "output_type": "stream",
     "text": [
      "92/92 [==============================] - 56s 605ms/step - loss: 0.2843 - acc: 0.9008 - val_loss: 0.4229 - val_acc: 0.8654\n",
      "Epoch 62/100\n",
      "92/92 [==============================] - 55s 599ms/step - loss: 0.2871 - acc: 0.8933 - val_loss: 0.4760 - val_acc: 0.8599\n",
      "Epoch 63/100\n",
      "92/92 [==============================] - 56s 612ms/step - loss: 0.3004 - acc: 0.8861 - val_loss: 0.4701 - val_acc: 0.8599\n",
      "Epoch 64/100\n",
      "92/92 [==============================] - 56s 610ms/step - loss: 0.2731 - acc: 0.9041 - val_loss: 0.4780 - val_acc: 0.8571\n",
      "Epoch 65/100\n",
      "92/92 [==============================] - 56s 604ms/step - loss: 0.2889 - acc: 0.8881 - val_loss: 0.4546 - val_acc: 0.8626\n",
      "Epoch 66/100\n",
      "92/92 [==============================] - 56s 607ms/step - loss: 0.2601 - acc: 0.9073 - val_loss: 0.4596 - val_acc: 0.8654\n",
      "Epoch 67/100\n",
      "92/92 [==============================] - 56s 612ms/step - loss: 0.2734 - acc: 0.9011 - val_loss: 0.4807 - val_acc: 0.8544\n",
      "Epoch 68/100\n",
      "92/92 [==============================] - 56s 608ms/step - loss: 0.2744 - acc: 0.8977 - val_loss: 0.4750 - val_acc: 0.8544\n",
      "Epoch 69/100\n",
      "92/92 [==============================] - 56s 609ms/step - loss: 0.2752 - acc: 0.8996 - val_loss: 0.4661 - val_acc: 0.8571\n",
      "Epoch 70/100\n",
      "92/92 [==============================] - 56s 607ms/step - loss: 0.2722 - acc: 0.9031 - val_loss: 0.4404 - val_acc: 0.8654\n",
      "Epoch 71/100\n",
      "92/92 [==============================] - 58s 631ms/step - loss: 0.2808 - acc: 0.8957 - val_loss: 0.4646 - val_acc: 0.8654\n",
      "Epoch 72/100\n",
      "92/92 [==============================] - 57s 618ms/step - loss: 0.2636 - acc: 0.9000 - val_loss: 0.4660 - val_acc: 0.8434\n",
      "Epoch 73/100\n",
      "92/92 [==============================] - 55s 593ms/step - loss: 0.2603 - acc: 0.9039 - val_loss: 0.4647 - val_acc: 0.8544\n",
      "Epoch 74/100\n",
      "92/92 [==============================] - 55s 596ms/step - loss: 0.2619 - acc: 0.9059 - val_loss: 0.4624 - val_acc: 0.8626\n",
      "Epoch 75/100\n",
      "92/92 [==============================] - 55s 594ms/step - loss: 0.2671 - acc: 0.9011 - val_loss: 0.4521 - val_acc: 0.8599\n",
      "Epoch 76/100\n",
      "92/92 [==============================] - 55s 593ms/step - loss: 0.2386 - acc: 0.9147 - val_loss: 0.4620 - val_acc: 0.8654\n",
      "Epoch 77/100\n",
      "92/92 [==============================] - 54s 592ms/step - loss: 0.2716 - acc: 0.9024 - val_loss: 0.4560 - val_acc: 0.8626\n",
      "Epoch 78/100\n",
      "92/92 [==============================] - 54s 592ms/step - loss: 0.2596 - acc: 0.9072 - val_loss: 0.4487 - val_acc: 0.8709\n",
      "Epoch 79/100\n",
      "92/92 [==============================] - 55s 595ms/step - loss: 0.2432 - acc: 0.9099 - val_loss: 0.4704 - val_acc: 0.8599\n",
      "Epoch 80/100\n",
      "92/92 [==============================] - 57s 618ms/step - loss: 0.2401 - acc: 0.9143 - val_loss: 0.4554 - val_acc: 0.8654\n",
      "Epoch 81/100\n",
      "92/92 [==============================] - 54s 591ms/step - loss: 0.2559 - acc: 0.9032 - val_loss: 0.4526 - val_acc: 0.8571\n",
      "Epoch 82/100\n",
      "92/92 [==============================] - 54s 592ms/step - loss: 0.2456 - acc: 0.9048 - val_loss: 0.4539 - val_acc: 0.8626\n",
      "Epoch 83/100\n",
      "92/92 [==============================] - 55s 593ms/step - loss: 0.2460 - acc: 0.9086 - val_loss: 0.4608 - val_acc: 0.8544\n",
      "Epoch 84/100\n",
      "92/92 [==============================] - 55s 593ms/step - loss: 0.2379 - acc: 0.9157 - val_loss: 0.4267 - val_acc: 0.8709\n",
      "Epoch 85/100\n",
      "92/92 [==============================] - 54s 592ms/step - loss: 0.2581 - acc: 0.9106 - val_loss: 0.4712 - val_acc: 0.8654\n",
      "Epoch 86/100\n",
      "92/92 [==============================] - 55s 593ms/step - loss: 0.2439 - acc: 0.9154 - val_loss: 0.4551 - val_acc: 0.8654\n",
      "Epoch 87/100\n",
      "92/92 [==============================] - 54s 592ms/step - loss: 0.2538 - acc: 0.9099 - val_loss: 0.4623 - val_acc: 0.8654\n",
      "Epoch 88/100\n",
      "92/92 [==============================] - 55s 594ms/step - loss: 0.2506 - acc: 0.9089 - val_loss: 0.4375 - val_acc: 0.8654\n",
      "Epoch 89/100\n",
      "92/92 [==============================] - 55s 597ms/step - loss: 0.2323 - acc: 0.9127 - val_loss: 0.4717 - val_acc: 0.8626\n",
      "Epoch 90/100\n",
      "92/92 [==============================] - 55s 594ms/step - loss: 0.2515 - acc: 0.9031 - val_loss: 0.4640 - val_acc: 0.8654\n",
      "Epoch 91/100\n",
      "92/92 [==============================] - 55s 594ms/step - loss: 0.2362 - acc: 0.9140 - val_loss: 0.4642 - val_acc: 0.8681\n",
      "Epoch 92/100\n",
      "92/92 [==============================] - 55s 594ms/step - loss: 0.2313 - acc: 0.9133 - val_loss: 0.4588 - val_acc: 0.8654\n",
      "Epoch 93/100\n",
      "92/92 [==============================] - 55s 594ms/step - loss: 0.2499 - acc: 0.9079 - val_loss: 0.4637 - val_acc: 0.8571\n",
      "Epoch 94/100\n",
      "92/92 [==============================] - 55s 593ms/step - loss: 0.2303 - acc: 0.9201 - val_loss: 0.4487 - val_acc: 0.8599\n",
      "Epoch 95/100\n",
      "92/92 [==============================] - 55s 596ms/step - loss: 0.2315 - acc: 0.9126 - val_loss: 0.4494 - val_acc: 0.8544\n",
      "Epoch 96/100\n",
      "92/92 [==============================] - 55s 594ms/step - loss: 0.2488 - acc: 0.9147 - val_loss: 0.4831 - val_acc: 0.8571\n",
      "Epoch 97/100\n",
      "92/92 [==============================] - 55s 597ms/step - loss: 0.2404 - acc: 0.9143 - val_loss: 0.4560 - val_acc: 0.8626\n",
      "Epoch 98/100\n",
      "92/92 [==============================] - 56s 614ms/step - loss: 0.2312 - acc: 0.9171 - val_loss: 0.4611 - val_acc: 0.8489\n",
      "Epoch 99/100\n",
      "64/92 [===================>..........] - ETA: 15s - loss: 0.2291 - acc: 0.9155"
     ]
    }
   ],
   "source": [
    "print_current()\n",
    "model.fit_generator(train_generator, steps_per_epoch=92, epochs=100, validation_data=validation_generator, validation_steps=12)\n",
    "print_current()"
   ]
  },
  {
   "cell_type": "code",
   "execution_count": null,
   "metadata": {},
   "outputs": [],
   "source": [
    "test_loss, test_acc = model.evaluate_generator(test_generator, steps=12)\n",
    "print(test_loss, test_acc)"
   ]
  },
  {
   "cell_type": "code",
   "execution_count": null,
   "metadata": {},
   "outputs": [],
   "source": []
  }
 ],
 "metadata": {
  "kernelspec": {
   "display_name": "Python 3",
   "language": "python",
   "name": "python3"
  },
  "language_info": {
   "codemirror_mode": {
    "name": "ipython",
    "version": 3
   },
   "file_extension": ".py",
   "mimetype": "text/x-python",
   "name": "python",
   "nbconvert_exporter": "python",
   "pygments_lexer": "ipython3",
   "version": "3.6.5"
  }
 },
 "nbformat": 4,
 "nbformat_minor": 2
}
